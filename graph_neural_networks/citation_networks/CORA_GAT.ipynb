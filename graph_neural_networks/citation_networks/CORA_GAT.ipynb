{
 "cells": [
  {
   "cell_type": "markdown",
   "metadata": {},
   "source": [
    "# Graph Attention Network\n",
    "\n",
    "\\[[paper](https://arxiv.org/abs/1710.10903)\\] , \\[[original code](https://github.com/PetarV-/GAT)\\] , \\[[all other implementations](https://paperswithcode.com/paper/graph-attention-networks)\\]\n",
    "\n",
    "From [Graph Convolutional Network (GCN)](https://arxiv.org/abs/1609.02907), we learned that combining local graph structure and node-level features yields good performance on node classification task. Hwever, the way GCN aggregates is structure-dependent, which may hurt its generalizability.\n",
    "\n",
    "One workaround is to simply average over all neighbor node features as in GraphSAGE. Graph Attention Network proposes an alternative way by weighting neighbor features with feature dependent and structure free normalization, in the style of attention.\n",
    "\n",
    "The goal of this tutorial:\n",
    "\n",
    "- Explain what is Graph Attention Network.\n",
    "- Understand the attentions learnt.\n",
    "- Introduce to inductive learning."
   ]
  },
  {
   "cell_type": "markdown",
   "metadata": {},
   "source": [
    "Introducing Attention to GCN\n",
    "----------------------------\n",
    "\n",
    "The key difference between GAT and GCN is how the information from the one-hop neighborhood is aggregated.\n",
    "\n",
    "For GCN, a graph convolution operation produces the normalized sum of the node features of neighbors:\n",
    "\n",
    "\n",
    "$$h_i^{(l+1)}=\\sigma\\left(\\sum_{j\\in \\mathcal{N}(i)} {\\frac{1}{c_{ij}} W^{(l)}h^{(l)}_j}\\right)$$"
   ]
  },
  {
   "cell_type": "markdown",
   "metadata": {},
   "source": [
    "where $\\mathcal{N}(i)$ is the set of its one-hop neighbors (to include $v_i$ in the set, simply add a self-loop to each node),\n",
    "$c_{ij}=\\sqrt{|\\mathcal{N}(i)|}\\sqrt{|\\mathcal{N}(j)|}$ is a normalization constant based on graph structure, $\\sigma$ is an activation function (GCN uses ReLU), and $W^{(l)}$ is a shared weight matrix for node-wise feature transformation. Another model proposed in\n",
    "[GraphSAGE](https://www-cs-faculty.stanford.edu/people/jure/pubs/graphsage-nips17.pdf)\n",
    "employs the same update rule except that they set\n",
    "$c_{ij}=|\\mathcal{N}(i)|$."
   ]
  },
  {
   "cell_type": "markdown",
   "metadata": {},
   "source": [
    "GAT introduces the attention mechanism as a substitute for the statically\n",
    "normalized convolution operation. Below are the equations to compute the node\n",
    "embedding $h_i^{(l+1)}$ of layer $l+1$ from the embeddings of\n",
    "layer $l$:\n",
    "\n",
    "<img src=\"https://s3.us-east-2.amazonaws.com/dgl.ai/tutorial/gat/gat.png\" height=\"350\" width=\"450\" align=\"center\">"
   ]
  },
  {
   "cell_type": "code",
   "execution_count": 2,
   "metadata": {
    "scrolled": true
   },
   "outputs": [],
   "source": [
    "import os,sys,inspect\n",
    "import os\n",
    "import joblib\n",
    "import tensorflow as tf\n",
    "import numpy as np\n",
    "import h5py\n",
    "import scipy.sparse.linalg as la\n",
    "import scipy.sparse as sp\n",
    "import scipy\n",
    "import time\n",
    "import pickle\n",
    "\n",
    "import matplotlib.pyplot as plt\n",
    "from matplotlib.backends.backend_pdf import PdfPages\n",
    "%matplotlib inline\n",
    "\n",
    "import scipy.io as sio\n",
    "\n",
    "import process_data"
   ]
  },
  {
   "cell_type": "code",
   "execution_count": 13,
   "metadata": {},
   "outputs": [],
   "source": [
    "def count_no_weights(self):\n",
    "    total_parameters = 0\n",
    "    for variable in tf.trainable_variables():\n",
    "        # shape is an array of tf.Dimension\n",
    "        shape = variable.get_shape()\n",
    "        variable_parameters = 1\n",
    "        for dim in shape:\n",
    "            variable_parameters *= dim.value\n",
    "        total_parameters += variable_parameters\n",
    "    print('#weights in the model: %d' % (total_parameters,))\n",
    "\n",
    "def frobenius_norm(self, tensor):\n",
    "    square_tensor = tf.square(tensor)\n",
    "    tensor_sum = tf.reduce_sum(square_tensor)\n",
    "    frobenius_norm = tf.sqrt(tensor_sum)\n",
    "    return frobenius_norm\n"
   ]
  },
  {
   "cell_type": "code",
   "execution_count": 14,
   "metadata": {},
   "outputs": [],
   "source": [
    "class GAT:\n",
    "    \n",
    "    \"\"\"\n",
    "    The neural network model.\n",
    "    \"\"\"\n",
    "    def __init__(self, idx_rows, idx_cols, A_shape, X, Y, num_hidden_feat, n_heads, learning_rate=5e-2, gamma=1e-3, idx_gpu = '/gpu:3'):\n",
    "        \n",
    "        self.num_hidden_feat = num_hidden_feat\n",
    "        self.learning_rate = learning_rate\n",
    "        self.gamma=gamma\n",
    "        with tf.Graph().as_default() as g:\n",
    "                self.graph = g\n",
    "                \n",
    "                with tf.device(idx_gpu):\n",
    "                            \n",
    "                        # list of weights' tensors l2-loss \n",
    "                        self.regularizers = []\n",
    "                            \n",
    "                        #definition of constant matrices\n",
    "                        self.X = tf.constant(X, dtype=tf.float32) \n",
    "                        self.Y = tf.constant(Y, dtype=tf.float32)\n",
    "                        \n",
    "                        #placeholder definition\n",
    "                        self.idx_nodes = tf.placeholder(tf.int32)\n",
    "                        self.keep_prob = tf.placeholder(tf.float32)\n",
    "                        \n",
    "                        #model definition\n",
    "                        \n",
    "                        self.X0 = []\n",
    "                        for k in range(n_heads):\n",
    "                            with tf.variable_scope('GCL_1_{}'.format(k+1)):\n",
    "                                self.X0.append(self.GAT_layer(self.X, num_hidden_feat, idx_rows, idx_cols, A_shape, tf.nn.elu))\n",
    "                        self.X0 = tf.concat(self.X0, 1)\n",
    "                        \n",
    "                        with tf.variable_scope('GCL_2'):\n",
    "                            self.logits = self.GAT_layer(self.X0, Y.shape[1], idx_rows, idx_cols, A_shape, tf.identity)\n",
    "                        \n",
    "                        self.l_out = tf.gather(self.logits, self.idx_nodes)\n",
    "                        self.c_Y = tf.gather(self.Y, self.idx_nodes)\n",
    "                        \n",
    "                        #loss function definition\n",
    "                        self.l2_reg = tf.reduce_sum(self.regularizers)\n",
    "                        self.data_loss = tf.reduce_mean(tf.nn.softmax_cross_entropy_with_logits(logits=self.l_out, labels=self.c_Y)) \n",
    "                        \n",
    "                        self.loss = self.data_loss + self.gamma*self.l2_reg\n",
    "                        \n",
    "                        #solver definition\n",
    "                        self.optimizer = tf.train.AdamOptimizer(learning_rate=self.learning_rate)\n",
    "                        self.opt_step = self.optimizer.minimize(self.loss)\n",
    "                        \n",
    "                        #predictions and accuracy extraction\n",
    "                        self.c_predictions = tf.argmax(tf.nn.softmax(self.l_out), 1)\n",
    "                        self.accuracy = tf.contrib.metrics.accuracy(self.c_predictions, tf.argmax(self.c_Y, 1))\n",
    "                        \n",
    "                        #gradients computation\n",
    "                        self.trainable_variables = tf.trainable_variables()\n",
    "                        self.var_grad = tf.gradients(self.loss, tf.trainable_variables())\n",
    "                        self.norm_grad = frobenius_norm(tf.concat([tf.reshape(g, [-1]) for g in self.var_grad], 0))\n",
    "                        \n",
    "                        #session creation\n",
    "                        config = tf.ConfigProto(allow_soft_placement = True)\n",
    "                        config.gpu_options.allow_growth = True\n",
    "                        self.session = tf.Session(config=config)\n",
    "\n",
    "                        #session initialization\n",
    "                        init = tf.global_variables_initializer()\n",
    "                        self.session.run(init)\n",
    "                        \n",
    "                        count_no_weights()\n",
    "\n",
    "    def GAT_layer(self, X, Fout, idx_rows, idx_cols, A_shape, activation):\n",
    "        X = tf.nn.dropout(X,  self.keep_prob)\n",
    "        \n",
    "        W = tf.get_variable(\"W\", shape=[X.shape[1], Fout], initializer=tf.glorot_uniform_initializer())\n",
    "        self.regularizers.append(tf.nn.l2_loss(W))\n",
    "        X_w = tf.matmul(X, W)\n",
    "\n",
    "        # simplest possible attention mechanism\n",
    "        W_att1 = tf.get_variable(\"W_att1\", shape=[X_w.shape[1], 1], initializer=tf.glorot_uniform_initializer())\n",
    "        b_att1 = tf.get_variable(\"b_att1\", shape=[1,], initializer=tf.zeros_initializer())\n",
    "        self.regularizers.append(tf.nn.l2_loss(W_att1))\n",
    "        W_att2 = tf.get_variable(\"W_att2\", shape=[X_w.shape[1], 1], initializer=tf.glorot_uniform_initializer())\n",
    "        b_att2 = tf.get_variable(\"b_att2\", shape=[1,], initializer=tf.zeros_initializer())\n",
    "        self.regularizers.append(tf.nn.l2_loss(W_att2))\n",
    "                            \n",
    "        X_att_1 = tf.squeeze(tf.matmul(X_w, W_att1)) + b_att1\n",
    "        X_att_2 = tf.squeeze(tf.matmul(X_w, W_att2)) + b_att2\n",
    "        \n",
    "        logits = tf.gather(X_att_1, idx_rows) +  tf.gather(X_att_2, idx_cols)\n",
    "                            \n",
    "        A_att = tf.SparseTensor(indices=np.vstack([idx_rows, idx_cols]).T, \n",
    "                                values=tf.nn.leaky_relu(logits), \n",
    "                                dense_shape=A_shape)\n",
    "        A_att = tf.sparse_reorder(A_att)\n",
    "        A_att = tf.sparse_softmax(A_att)\n",
    "        \n",
    "        # apply dropout\n",
    "        A_att = tf.SparseTensor(indices=A_att.indices,\n",
    "                                values=tf.nn.dropout(A_att.values, self.keep_prob),\n",
    "                                dense_shape=A_shape)\n",
    "        A_att = tf.sparse_reorder(A_att)\n",
    "\n",
    "        X_w = tf.nn.dropout(X_w, self.keep_prob)\n",
    "        res = tf.sparse_tensor_dense_matmul(A_att, X_w)\n",
    "        res = tf.contrib.layers.bias_add(res)\n",
    "\n",
    "        return activation(res)\n",
    "     "
   ]
  },
  {
   "cell_type": "markdown",
   "metadata": {},
   "source": [
    "Multi-head Attention\n",
    "^^^^^^^^^^^^^^^^^^^^\n",
    "\n",
    "Analogous to multiple channels in ConvNet, GAT introduces **multi-head\n",
    "attention** to enrich the model capacity and to stabilize the learning\n",
    "process. Each attention head has its own parameters and their outputs can be\n",
    "merged in two ways:\n",
    "\n",
    "\\begin{align}\\text{concatenation}: h^{(l+1)}_{i} =||_{k=1}^{K}\\sigma\\left(\\sum_{j\\in \\mathcal{N}(i)}\\alpha_{ij}^{k}W^{k}h^{(l)}_{j}\\right)\\end{align}\n",
    "\n",
    "or\n",
    "\n",
    "\\begin{align}\\text{average}: h_{i}^{(l+1)}=\\sigma\\left(\\frac{1}{K}\\sum_{k=1}^{K}\\sum_{j\\in\\mathcal{N}(i)}\\alpha_{ij}^{k}W^{k}h^{(l)}_{j}\\right)\\end{align}\n",
    "\n",
    "where $K$ is the number of heads. The authors suggest using\n",
    "concatenation for intermediary layers and average for the final layer.\n"
   ]
  },
  {
   "cell_type": "code",
   "execution_count": 4,
   "metadata": {},
   "outputs": [
    {
     "name": "stdout",
     "output_type": "stream",
     "text": [
      "(2708, 2708)\n",
      "(2708, 1433)\n"
     ]
    }
   ],
   "source": [
    "#learning parameters and path dataset\n",
    "\n",
    "learning_rate = 5e-3\n",
    "val_test_interval = 1\n",
    "num_hidden_feat = 8\n",
    "n_heads = 8\n",
    "gamma = 5e-4\n",
    "patience = 100\n",
    "path_dataset = './CORA/dataset.pickle'\n",
    "    \n",
    "#dataset loading\n",
    "#ds = Dataset(path_dataset, normalize_feat=1)\n",
    "\n",
    "A, X, Y, train_idx, val_idx, test_idx = process_data.load_data(\"cora\")\n",
    "X = process_data.preprocess_features(X)"
   ]
  },
  {
   "cell_type": "code",
   "execution_count": 5,
   "metadata": {},
   "outputs": [
    {
     "name": "stderr",
     "output_type": "stream",
     "text": [
      "/usr/local/lib/python3.6/dist-packages/scipy/sparse/_index.py:127: SparseEfficiencyWarning: Changing the sparsity structure of a csr_matrix is expensive. lil_matrix is more efficient.\n",
      "  self._set_arrayXarray(i, j, x)\n"
     ]
    }
   ],
   "source": [
    "# extracts rows and cols of adjacency matrix\n",
    "A = sp.csr_matrix(A)\n",
    "A.setdiag(1)\n",
    "\n",
    "idx_rows, idx_cols = A.nonzero()"
   ]
  },
  {
   "cell_type": "code",
   "execution_count": 10,
   "metadata": {},
   "outputs": [],
   "source": [
    "from tqdm import tqdm"
   ]
  },
  {
   "cell_type": "code",
   "execution_count": 7,
   "metadata": {
    "scrolled": true
   },
   "outputs": [],
   "source": [
    "# num_exp = 10 #number of times training GCN over the given dataset\n",
    "num_exp = 1 #number of times training GCN over the given dataset\n",
    "\n",
    "list_all_acc = []\n",
    "list_all_cost_val_avg  = []\n",
    "list_all_data_cost_val_avg = []\n",
    "list_all_acc_val_avg   = []\n",
    "list_all_cost_test_avg = []\n",
    "list_all_acc_test_avg  = []\n",
    "\n",
    "num_done = 0"
   ]
  },
  {
   "cell_type": "code",
   "execution_count": 12,
   "metadata": {
    "scrolled": true
   },
   "outputs": [
    {
     "name": "stderr",
     "output_type": "stream",
     "text": [
      "\n",
      "  0%|          | 0/100000 [00:00<?, ?it/s]\u001b[A"
     ]
    },
    {
     "name": "stdout",
     "output_type": "stream",
     "text": [
      "#weights in the model: 92391\n"
     ]
    },
    {
     "name": "stderr",
     "output_type": "stream",
     "text": [
      "                                                                \n",
      "  0%|          | 77/10000000000 [00:50<1147570:33:28,  2.42it/s]\n",
      "  0%|          | 0/100000 [00:00<?, ?it/s]\u001b[A"
     ]
    },
    {
     "name": "stdout",
     "output_type": "stream",
     "text": [
      "[VAL] epoch = 000, data_cost = 1.95e+00, cost = 1.99e+00, acc = 1.46e-01 (0.45s)\n"
     ]
    },
    {
     "name": "stderr",
     "output_type": "stream",
     "text": [
      "                                                                \n",
      "  0%|          | 77/10000000000 [00:51<1147570:33:28,  2.42it/s]\n",
      "  0%|          | 0/100000 [00:00<?, ?it/s]\u001b[A"
     ]
    },
    {
     "name": "stdout",
     "output_type": "stream",
     "text": [
      "[TST] epoch = 000, cost = 1.99e+00, acc = 1.28e-01 (0.43s)\n"
     ]
    },
    {
     "name": "stderr",
     "output_type": "stream",
     "text": [
      "\n",
      "                                                                \n",
      "  0%|          | 77/10000000000 [00:52<1147570:33:28,  2.42it/s]\n",
      "                                                                \n",
      "  0%|          | 77/10000000000 [00:53<1147570:33:28,  2.42it/s]\n",
      "  0%|          | 1/100000 [00:02<74:23:27,  2.68s/it]\u001b[A"
     ]
    },
    {
     "name": "stdout",
     "output_type": "stream",
     "text": [
      "[TRN] epoch = 001, cost = 1.99e+00, |grad| = 2.57e-01, acc = 1.50e-01 (1.78s)\n",
      "[VAL] epoch = 001, data_cost = 1.95e+00, cost = 1.98e+00, acc = 5.80e-02 (0.09s)\n"
     ]
    },
    {
     "name": "stderr",
     "output_type": "stream",
     "text": [
      "                                                                \n",
      "  0%|          | 77/10000000000 [00:53<1147570:33:28,  2.42it/s]\n",
      "  0%|          | 1/100000 [00:02<74:23:27,  2.68s/it]\u001b[A\n",
      "                                                                \n",
      "  0%|          | 77/10000000000 [00:53<1147570:33:28,  2.42it/s]\n",
      "  0%|          | 2/100000 [00:03<55:10:19,  1.99s/it]\u001b[A"
     ]
    },
    {
     "name": "stdout",
     "output_type": "stream",
     "text": [
      "[TST] epoch = 001, cost = 1.98e+00, acc = 6.70e-02 (0.10s)\n",
      "[TRN] epoch = 002, cost = 1.98e+00, |grad| = 2.91e-01, acc = 1.71e-01 (0.15s)\n"
     ]
    },
    {
     "name": "stderr",
     "output_type": "stream",
     "text": [
      "                                                                \n",
      "  0%|          | 77/10000000000 [00:53<1147570:33:28,  2.42it/s]\n",
      "                                                                \n",
      "  0%|          | 77/10000000000 [00:53<1147570:33:28,  2.42it/s]\n",
      "  0%|          | 2/100000 [00:03<55:10:19,  1.99s/it]\u001b[A"
     ]
    },
    {
     "name": "stdout",
     "output_type": "stream",
     "text": [
      "[VAL] epoch = 002, data_cost = 1.95e+00, cost = 1.98e+00, acc = 5.80e-02 (0.10s)\n",
      "[TST] epoch = 002, cost = 1.98e+00, acc = 6.50e-02 (0.10s)\n"
     ]
    },
    {
     "name": "stderr",
     "output_type": "stream",
     "text": [
      "\n",
      "                                                                \n",
      "  0%|          | 77/10000000000 [00:53<1147570:33:28,  2.42it/s]\n",
      "                                                                \n",
      "  0%|          | 77/10000000000 [00:53<1147570:33:28,  2.42it/s]\n",
      "  0%|          | 3/100000 [00:03<42:10:09,  1.52s/it]\u001b[A"
     ]
    },
    {
     "name": "stdout",
     "output_type": "stream",
     "text": [
      "[TRN] epoch = 003, cost = 1.97e+00, |grad| = 2.14e-01, acc = 1.79e-01 (0.21s)\n",
      "[VAL] epoch = 003, data_cost = 1.95e+00, cost = 1.98e+00, acc = 5.80e-02 (0.10s)\n"
     ]
    },
    {
     "name": "stderr",
     "output_type": "stream",
     "text": [
      "                                                                \n",
      "  0%|          | 77/10000000000 [00:53<1147570:33:28,  2.42it/s]\n",
      "  0%|          | 3/100000 [00:03<42:10:09,  1.52s/it]\u001b[A\n",
      "                                                                \n",
      "  0%|          | 77/10000000000 [00:54<1147570:33:28,  2.42it/s]\n",
      "  0%|          | 4/100000 [00:03<32:59:55,  1.19s/it]\u001b[A"
     ]
    },
    {
     "name": "stdout",
     "output_type": "stream",
     "text": [
      "[TST] epoch = 003, cost = 1.97e+00, acc = 6.40e-02 (0.12s)\n",
      "[TRN] epoch = 004, cost = 1.98e+00, |grad| = 2.69e-01, acc = 1.07e-01 (0.18s)\n"
     ]
    },
    {
     "name": "stderr",
     "output_type": "stream",
     "text": [
      "                                                                \n",
      "  0%|          | 77/10000000000 [00:54<1147570:33:28,  2.42it/s]\n",
      "                                                                \n",
      "  0%|          | 77/10000000000 [00:54<1147570:33:28,  2.42it/s]\n",
      "  0%|          | 4/100000 [00:04<32:59:55,  1.19s/it]\u001b[A"
     ]
    },
    {
     "name": "stdout",
     "output_type": "stream",
     "text": [
      "[VAL] epoch = 004, data_cost = 1.94e+00, cost = 1.97e+00, acc = 5.80e-02 (0.11s)\n",
      "[TST] epoch = 004, cost = 1.97e+00, acc = 6.50e-02 (0.11s)\n"
     ]
    },
    {
     "name": "stderr",
     "output_type": "stream",
     "text": [
      "\n",
      "                                                                \n",
      "  0%|          | 77/10000000000 [00:54<1147570:33:28,  2.42it/s]\n",
      "                                                                \n",
      "  0%|          | 77/10000000000 [00:54<1147570:33:28,  2.42it/s]\n",
      "  0%|          | 5/100000 [00:04<26:38:06,  1.04it/s]\u001b[A"
     ]
    },
    {
     "name": "stdout",
     "output_type": "stream",
     "text": [
      "[TRN] epoch = 005, cost = 1.97e+00, |grad| = 2.06e-01, acc = 1.29e-01 (0.18s)\n",
      "[VAL] epoch = 005, data_cost = 1.94e+00, cost = 1.97e+00, acc = 6.60e-02 (0.09s)\n"
     ]
    },
    {
     "name": "stderr",
     "output_type": "stream",
     "text": [
      "                                                                \n",
      "  0%|          | 77/10000000000 [00:54<1147570:33:28,  2.42it/s]\n",
      "  0%|          | 5/100000 [00:04<26:38:06,  1.04it/s]\u001b[A\n",
      "                                                                \n",
      "  0%|          | 77/10000000000 [00:54<1147570:33:28,  2.42it/s]\n",
      "  0%|          | 6/100000 [00:04<21:44:21,  1.28it/s]\u001b[A"
     ]
    },
    {
     "name": "stdout",
     "output_type": "stream",
     "text": [
      "[TST] epoch = 005, cost = 1.96e+00, acc = 6.90e-02 (0.09s)\n",
      "[TRN] epoch = 006, cost = 1.96e+00, |grad| = 2.32e-01, acc = 1.64e-01 (0.16s)\n"
     ]
    },
    {
     "name": "stderr",
     "output_type": "stream",
     "text": [
      "                                                                \n",
      "  0%|          | 77/10000000000 [00:55<1147570:33:28,  2.42it/s]\n",
      "                                                                \n",
      "  0%|          | 77/10000000000 [00:55<1147570:33:28,  2.42it/s]\n",
      "  0%|          | 6/100000 [00:04<21:44:21,  1.28it/s]\u001b[A"
     ]
    },
    {
     "name": "stdout",
     "output_type": "stream",
     "text": [
      "[VAL] epoch = 006, data_cost = 1.94e+00, cost = 1.96e+00, acc = 9.00e-02 (0.10s)\n",
      "[TST] epoch = 006, cost = 1.96e+00, acc = 1.00e-01 (0.09s)\n"
     ]
    },
    {
     "name": "stderr",
     "output_type": "stream",
     "text": [
      "\n",
      "                                                                \n",
      "  0%|          | 77/10000000000 [00:55<1147570:33:28,  2.42it/s]\n",
      "                                                                \n",
      "  0%|          | 77/10000000000 [00:55<1147570:33:28,  2.42it/s]\n",
      "  0%|          | 7/100000 [00:05<18:20:54,  1.51it/s]\u001b[A"
     ]
    },
    {
     "name": "stdout",
     "output_type": "stream",
     "text": [
      "[TRN] epoch = 007, cost = 1.96e+00, |grad| = 2.26e-01, acc = 2.07e-01 (0.17s)\n",
      "[VAL] epoch = 007, data_cost = 1.93e+00, cost = 1.96e+00, acc = 1.58e-01 (0.10s)\n"
     ]
    },
    {
     "name": "stderr",
     "output_type": "stream",
     "text": [
      "                                                                \n",
      "  0%|          | 77/10000000000 [00:55<1147570:33:28,  2.42it/s]\n",
      "  0%|          | 7/100000 [00:05<18:20:54,  1.51it/s]\u001b[A\n",
      "                                                                \n",
      "  0%|          | 77/10000000000 [00:55<1147570:33:28,  2.42it/s]\n",
      "  0%|          | 8/100000 [00:05<16:04:54,  1.73it/s]\u001b[A"
     ]
    },
    {
     "name": "stdout",
     "output_type": "stream",
     "text": [
      "[TST] epoch = 007, cost = 1.96e+00, acc = 1.93e-01 (0.09s)\n",
      "[TRN] epoch = 008, cost = 1.95e+00, |grad| = 2.06e-01, acc = 2.86e-01 (0.17s)\n"
     ]
    },
    {
     "name": "stderr",
     "output_type": "stream",
     "text": [
      "                                                                \n",
      "  0%|          | 77/10000000000 [00:55<1147570:33:28,  2.42it/s]\n",
      "                                                                \n",
      "  0%|          | 77/10000000000 [00:55<1147570:33:28,  2.42it/s]\n",
      "  0%|          | 8/100000 [00:05<16:04:54,  1.73it/s]\u001b[A"
     ]
    },
    {
     "name": "stdout",
     "output_type": "stream",
     "text": [
      "[VAL] epoch = 008, data_cost = 1.93e+00, cost = 1.96e+00, acc = 3.28e-01 (0.09s)\n",
      "[TST] epoch = 008, cost = 1.95e+00, acc = 4.17e-01 (0.10s)\n"
     ]
    },
    {
     "name": "stderr",
     "output_type": "stream",
     "text": [
      "\n",
      "                                                                \n",
      "  0%|          | 77/10000000000 [00:56<1147570:33:28,  2.42it/s]\n",
      "                                                                \n",
      "  0%|          | 77/10000000000 [00:56<1147570:33:28,  2.42it/s]\n",
      "  0%|          | 9/100000 [00:05<14:15:26,  1.95it/s]\u001b[A"
     ]
    },
    {
     "name": "stdout",
     "output_type": "stream",
     "text": [
      "[TRN] epoch = 009, cost = 1.96e+00, |grad| = 2.62e-01, acc = 1.79e-01 (0.15s)\n",
      "[VAL] epoch = 009, data_cost = 1.93e+00, cost = 1.95e+00, acc = 4.68e-01 (0.11s)\n"
     ]
    },
    {
     "name": "stderr",
     "output_type": "stream",
     "text": [
      "                                                                \n",
      "  0%|          | 77/10000000000 [00:56<1147570:33:28,  2.42it/s]\n",
      "  0%|          | 9/100000 [00:06<14:15:26,  1.95it/s]\u001b[A\n",
      "                                                                \n",
      "  0%|          | 77/10000000000 [00:56<1147570:33:28,  2.42it/s]\n",
      "  0%|          | 10/100000 [00:06<13:01:18,  2.13it/s]\u001b[A"
     ]
    },
    {
     "name": "stdout",
     "output_type": "stream",
     "text": [
      "[TST] epoch = 009, cost = 1.95e+00, acc = 5.49e-01 (0.09s)\n",
      "[TRN] epoch = 010, cost = 1.95e+00, |grad| = 2.40e-01, acc = 2.71e-01 (0.16s)\n"
     ]
    },
    {
     "name": "stderr",
     "output_type": "stream",
     "text": [
      "                                                                \n",
      "  0%|          | 77/10000000000 [00:56<1147570:33:28,  2.42it/s]\n",
      "                                                                \n",
      "  0%|          | 77/10000000000 [00:56<1147570:33:28,  2.42it/s]\n",
      "  0%|          | 10/100000 [00:06<13:01:18,  2.13it/s]\u001b[A"
     ]
    },
    {
     "name": "stdout",
     "output_type": "stream",
     "text": [
      "[VAL] epoch = 010, data_cost = 1.93e+00, cost = 1.95e+00, acc = 5.58e-01 (0.10s)\n",
      "[TST] epoch = 010, cost = 1.95e+00, acc = 6.22e-01 (0.10s)\n"
     ]
    },
    {
     "name": "stderr",
     "output_type": "stream",
     "text": [
      "\n",
      "                                                                \n",
      "  0%|          | 77/10000000000 [00:56<1147570:33:28,  2.42it/s]\n",
      "                                                                \n",
      "  0%|          | 77/10000000000 [00:56<1147570:33:28,  2.42it/s]\n",
      "  0%|          | 11/100000 [00:06<12:27:51,  2.23it/s]\u001b[A"
     ]
    },
    {
     "name": "stdout",
     "output_type": "stream",
     "text": [
      "[TRN] epoch = 011, cost = 1.95e+00, |grad| = 2.33e-01, acc = 2.29e-01 (0.18s)\n",
      "[VAL] epoch = 011, data_cost = 1.92e+00, cost = 1.95e+00, acc = 6.14e-01 (0.10s)\n"
     ]
    },
    {
     "name": "stderr",
     "output_type": "stream",
     "text": [
      "                                                                \n",
      "  0%|          | 77/10000000000 [00:57<1147570:33:28,  2.42it/s]\n",
      "  0%|          | 11/100000 [00:06<12:27:51,  2.23it/s]\u001b[A\n",
      "                                                                \n",
      "  0%|          | 77/10000000000 [00:57<1147570:33:28,  2.42it/s]\n",
      "  0%|          | 12/100000 [00:07<12:09:49,  2.28it/s]\u001b[A"
     ]
    },
    {
     "name": "stdout",
     "output_type": "stream",
     "text": [
      "[TST] epoch = 011, cost = 1.95e+00, acc = 6.54e-01 (0.10s)\n",
      "[TRN] epoch = 012, cost = 1.93e+00, |grad| = 2.50e-01, acc = 3.07e-01 (0.18s)\n"
     ]
    },
    {
     "name": "stderr",
     "output_type": "stream",
     "text": [
      "                                                                \n",
      "  0%|          | 77/10000000000 [00:57<1147570:33:28,  2.42it/s]\n",
      "                                                                \n",
      "  0%|          | 77/10000000000 [00:57<1147570:33:28,  2.42it/s]\n",
      "  0%|          | 12/100000 [00:07<12:09:49,  2.28it/s]\u001b[A"
     ]
    },
    {
     "name": "stdout",
     "output_type": "stream",
     "text": [
      "[VAL] epoch = 012, data_cost = 1.92e+00, cost = 1.94e+00, acc = 6.42e-01 (0.10s)\n",
      "[TST] epoch = 012, cost = 1.94e+00, acc = 6.58e-01 (0.10s)\n"
     ]
    },
    {
     "name": "stderr",
     "output_type": "stream",
     "text": [
      "\n",
      "                                                                \n",
      "  0%|          | 77/10000000000 [00:57<1147570:33:28,  2.42it/s]\n",
      "                                                                \n",
      "  0%|          | 77/10000000000 [00:57<1147570:33:28,  2.42it/s]\n",
      "  0%|          | 13/100000 [00:07<11:53:58,  2.33it/s]\u001b[A"
     ]
    },
    {
     "name": "stdout",
     "output_type": "stream",
     "text": [
      "[TRN] epoch = 013, cost = 1.94e+00, |grad| = 2.48e-01, acc = 3.29e-01 (0.18s)\n",
      "[VAL] epoch = 013, data_cost = 1.92e+00, cost = 1.94e+00, acc = 6.20e-01 (0.10s)\n"
     ]
    },
    {
     "name": "stderr",
     "output_type": "stream",
     "text": [
      "                                                                \n",
      "  0%|          | 77/10000000000 [00:57<1147570:33:28,  2.42it/s]\n",
      "  0%|          | 13/100000 [00:07<11:53:58,  2.33it/s]\u001b[A\n",
      "                                                                \n",
      "  0%|          | 77/10000000000 [00:58<1147570:33:28,  2.42it/s]\n",
      "  0%|          | 14/100000 [00:07<11:48:13,  2.35it/s]\u001b[A"
     ]
    },
    {
     "name": "stdout",
     "output_type": "stream",
     "text": [
      "[TST] epoch = 013, cost = 1.94e+00, acc = 6.21e-01 (0.09s)\n",
      "[TRN] epoch = 014, cost = 1.94e+00, |grad| = 2.26e-01, acc = 3.07e-01 (0.17s)\n"
     ]
    },
    {
     "name": "stderr",
     "output_type": "stream",
     "text": [
      "                                                                \n",
      "  0%|          | 77/10000000000 [00:58<1147570:33:28,  2.42it/s]\n",
      "                                                                \n",
      "  0%|          | 77/10000000000 [00:58<1147570:33:28,  2.42it/s]\n",
      "  0%|          | 14/100000 [00:08<11:48:13,  2.35it/s]\u001b[A"
     ]
    },
    {
     "name": "stdout",
     "output_type": "stream",
     "text": [
      "[VAL] epoch = 014, data_cost = 1.91e+00, cost = 1.94e+00, acc = 5.96e-01 (0.09s)\n",
      "[TST] epoch = 014, cost = 1.94e+00, acc = 6.05e-01 (0.10s)\n"
     ]
    },
    {
     "name": "stderr",
     "output_type": "stream",
     "text": [
      "\n",
      "                                                                \n",
      "  0%|          | 77/10000000000 [00:58<1147570:33:28,  2.42it/s]\n",
      "                                                                \n",
      "  0%|          | 77/10000000000 [00:58<1147570:33:28,  2.42it/s]\n",
      "                                                                \n",
      "  0%|          | 77/10000000000 [00:58<1147570:33:28,  2.42it/s]\n",
      "  0%|          | 15/100000 [00:08<11:33:13,  2.40it/s]"
     ]
    },
    {
     "name": "stdout",
     "output_type": "stream",
     "text": [
      "[TRN] epoch = 015, cost = 1.93e+00, |grad| = 2.37e-01, acc = 2.93e-01 (0.18s)\n",
      "[VAL] epoch = 015, data_cost = 1.91e+00, cost = 1.94e+00, acc = 5.86e-01 (0.09s)\n",
      "[TST] epoch = 015, cost = 1.93e+00, acc = 5.79e-01 (0.08s)\n"
     ]
    },
    {
     "name": "stderr",
     "output_type": "stream",
     "text": [
      "\u001b[A\n",
      "                                                                \n",
      "  0%|          | 77/10000000000 [00:58<1147570:33:28,  2.42it/s]\n",
      "                                                                \n",
      "  0%|          | 77/10000000000 [00:58<1147570:33:28,  2.42it/s]\n",
      "                                                                \r"
     ]
    },
    {
     "name": "stdout",
     "output_type": "stream",
     "text": [
      "[TRN] epoch = 016, cost = 1.92e+00, |grad| = 2.10e-01, acc = 3.86e-01 (0.17s)\n",
      "[VAL] epoch = 016, data_cost = 1.91e+00, cost = 1.93e+00, acc = 5.72e-01 (0.09s)\n"
     ]
    },
    {
     "name": "stderr",
     "output_type": "stream",
     "text": [
      "\n",
      "  0%|          | 77/10000000000 [00:59<1147570:33:28,  2.42it/s]\n",
      "  0%|          | 16/100000 [00:08<11:08:57,  2.49it/s]\u001b[A\n",
      "                                                                \n",
      "  0%|          | 77/10000000000 [00:59<1147570:33:28,  2.42it/s]\n",
      "  0%|          | 17/100000 [00:08<11:00:34,  2.52it/s]\u001b[A"
     ]
    },
    {
     "name": "stdout",
     "output_type": "stream",
     "text": [
      "[TST] epoch = 016, cost = 1.93e+00, acc = 5.68e-01 (0.09s)\n",
      "[TRN] epoch = 017, cost = 1.92e+00, |grad| = 2.30e-01, acc = 3.21e-01 (0.17s)\n"
     ]
    },
    {
     "name": "stderr",
     "output_type": "stream",
     "text": [
      "                                                                \n",
      "  0%|          | 77/10000000000 [00:59<1147570:33:28,  2.42it/s]\n",
      "                                                                \n",
      "  0%|          | 77/10000000000 [00:59<1147570:33:28,  2.42it/s]\n",
      "  0%|          | 17/100000 [00:09<11:00:34,  2.52it/s]\u001b[A"
     ]
    },
    {
     "name": "stdout",
     "output_type": "stream",
     "text": [
      "[VAL] epoch = 017, data_cost = 1.91e+00, cost = 1.93e+00, acc = 5.82e-01 (0.10s)\n",
      "[TST] epoch = 017, cost = 1.93e+00, acc = 5.70e-01 (0.09s)\n"
     ]
    },
    {
     "name": "stderr",
     "output_type": "stream",
     "text": [
      "\n",
      "                                                                \n",
      "  0%|          | 77/10000000000 [00:59<1147570:33:28,  2.42it/s]\n",
      "                                                                \n",
      "  0%|          | 77/10000000000 [00:59<1147570:33:28,  2.42it/s]\n",
      "  0%|          | 18/100000 [00:09<11:22:34,  2.44it/s]\u001b[A"
     ]
    },
    {
     "name": "stdout",
     "output_type": "stream",
     "text": [
      "[TRN] epoch = 018, cost = 1.92e+00, |grad| = 3.10e-01, acc = 3.00e-01 (0.23s)\n",
      "[VAL] epoch = 018, data_cost = 1.90e+00, cost = 1.93e+00, acc = 5.74e-01 (0.11s)\n"
     ]
    },
    {
     "name": "stderr",
     "output_type": "stream",
     "text": [
      "                                                                \n",
      "  0%|          | 77/10000000000 [00:59<1147570:33:28,  2.42it/s]\n",
      "  0%|          | 18/100000 [00:09<11:22:34,  2.44it/s]\u001b[A"
     ]
    },
    {
     "name": "stdout",
     "output_type": "stream",
     "text": [
      "[TST] epoch = 018, cost = 1.93e+00, acc = 5.53e-01 (0.11s)\n"
     ]
    },
    {
     "name": "stderr",
     "output_type": "stream",
     "text": [
      "\n",
      "                                                                \n",
      "  0%|          | 77/10000000000 [01:00<1147570:33:28,  2.42it/s]\n",
      "                                                                \n",
      "  0%|          | 77/10000000000 [01:00<1147570:33:28,  2.42it/s]\n",
      "  0%|          | 19/100000 [00:09<11:46:03,  2.36it/s]\u001b[A"
     ]
    },
    {
     "name": "stdout",
     "output_type": "stream",
     "text": [
      "[TRN] epoch = 019, cost = 1.92e+00, |grad| = 2.32e-01, acc = 3.21e-01 (0.21s)\n",
      "[VAL] epoch = 019, data_cost = 1.90e+00, cost = 1.93e+00, acc = 5.82e-01 (0.09s)\n"
     ]
    },
    {
     "name": "stderr",
     "output_type": "stream",
     "text": [
      "                                                                \n",
      "  0%|          | 77/10000000000 [01:00<1147570:33:28,  2.42it/s]\n",
      "  0%|          | 19/100000 [00:10<11:46:03,  2.36it/s]\u001b[A\n",
      "                                                                \n",
      "  0%|          | 77/10000000000 [01:00<1147570:33:28,  2.42it/s]\n",
      "  0%|          | 20/100000 [00:10<11:34:09,  2.40it/s]\u001b[A"
     ]
    },
    {
     "name": "stdout",
     "output_type": "stream",
     "text": [
      "[TST] epoch = 019, cost = 1.93e+00, acc = 5.82e-01 (0.10s)\n",
      "[TRN] epoch = 020, cost = 1.92e+00, |grad| = 2.33e-01, acc = 3.07e-01 (0.18s)\n"
     ]
    },
    {
     "name": "stderr",
     "output_type": "stream",
     "text": [
      "                                                                \n",
      "  0%|          | 77/10000000000 [01:00<1147570:33:28,  2.42it/s]\n",
      "                                                                \n",
      "  0%|          | 77/10000000000 [01:00<1147570:33:28,  2.42it/s]\n",
      "  0%|          | 20/100000 [00:10<11:34:09,  2.40it/s]\u001b[A"
     ]
    },
    {
     "name": "stdout",
     "output_type": "stream",
     "text": [
      "[VAL] epoch = 020, data_cost = 1.90e+00, cost = 1.93e+00, acc = 5.66e-01 (0.11s)\n",
      "[TST] epoch = 020, cost = 1.92e+00, acc = 5.61e-01 (0.11s)\n"
     ]
    },
    {
     "name": "stderr",
     "output_type": "stream",
     "text": [
      "\n",
      "                                                                \n",
      "  0%|          | 77/10000000000 [01:00<1147570:33:28,  2.42it/s]\n",
      "                                                                \n",
      "  0%|          | 77/10000000000 [01:01<1147570:33:28,  2.42it/s]\n",
      "  0%|          | 21/100000 [00:10<11:43:50,  2.37it/s]\u001b[A"
     ]
    },
    {
     "name": "stdout",
     "output_type": "stream",
     "text": [
      "[TRN] epoch = 021, cost = 1.91e+00, |grad| = 2.45e-01, acc = 3.71e-01 (0.19s)\n",
      "[VAL] epoch = 021, data_cost = 1.90e+00, cost = 1.92e+00, acc = 5.64e-01 (0.11s)\n"
     ]
    },
    {
     "name": "stderr",
     "output_type": "stream",
     "text": [
      "                                                                \n",
      "  0%|          | 77/10000000000 [01:01<1147570:33:28,  2.42it/s]\n",
      "  0%|          | 21/100000 [00:10<11:43:50,  2.37it/s]\u001b[A\n",
      "                                                                \n",
      "  0%|          | 77/10000000000 [01:01<1147570:33:28,  2.42it/s]\n",
      "  0%|          | 22/100000 [00:11<11:37:36,  2.39it/s]\u001b[A"
     ]
    },
    {
     "name": "stdout",
     "output_type": "stream",
     "text": [
      "[TST] epoch = 021, cost = 1.92e+00, acc = 5.60e-01 (0.10s)\n",
      "[TRN] epoch = 022, cost = 1.89e+00, |grad| = 2.39e-01, acc = 3.64e-01 (0.18s)\n"
     ]
    },
    {
     "name": "stderr",
     "output_type": "stream",
     "text": [
      "                                                                \n",
      "  0%|          | 77/10000000000 [01:01<1147570:33:28,  2.42it/s]\n",
      "                                                                \n",
      "  0%|          | 77/10000000000 [01:01<1147570:33:28,  2.42it/s]\n",
      "  0%|          | 22/100000 [00:11<11:37:36,  2.39it/s]\u001b[A"
     ]
    },
    {
     "name": "stdout",
     "output_type": "stream",
     "text": [
      "[VAL] epoch = 022, data_cost = 1.90e+00, cost = 1.92e+00, acc = 5.72e-01 (0.10s)\n",
      "[TST] epoch = 022, cost = 1.92e+00, acc = 5.54e-01 (0.12s)\n"
     ]
    },
    {
     "name": "stderr",
     "output_type": "stream",
     "text": [
      "\n",
      "                                                                \n",
      "  0%|          | 77/10000000000 [01:01<1147570:33:28,  2.42it/s]\n",
      "                                                                \n",
      "  0%|          | 77/10000000000 [01:01<1147570:33:28,  2.42it/s]\n",
      "  0%|          | 23/100000 [00:11<11:38:30,  2.39it/s]\u001b[A"
     ]
    },
    {
     "name": "stdout",
     "output_type": "stream",
     "text": [
      "[TRN] epoch = 023, cost = 1.91e+00, |grad| = 2.41e-01, acc = 3.36e-01 (0.18s)\n",
      "[VAL] epoch = 023, data_cost = 1.90e+00, cost = 1.92e+00, acc = 5.50e-01 (0.10s)\n"
     ]
    },
    {
     "name": "stderr",
     "output_type": "stream",
     "text": [
      "                                                                \n",
      "  0%|          | 77/10000000000 [01:02<1147570:33:28,  2.42it/s]\n",
      "  0%|          | 23/100000 [00:11<11:38:30,  2.39it/s]\u001b[A"
     ]
    },
    {
     "name": "stdout",
     "output_type": "stream",
     "text": [
      "[TST] epoch = 023, cost = 1.92e+00, acc = 5.48e-01 (0.10s)\n"
     ]
    },
    {
     "name": "stderr",
     "output_type": "stream",
     "text": [
      "\n",
      "                                                                \n",
      "  0%|          | 77/10000000000 [01:02<1147570:33:28,  2.42it/s]\n",
      "                                                                \n",
      "  0%|          | 77/10000000000 [01:02<1147570:33:28,  2.42it/s]\n",
      "  0%|          | 24/100000 [00:12<12:01:07,  2.31it/s]\u001b[A"
     ]
    },
    {
     "name": "stdout",
     "output_type": "stream",
     "text": [
      "[TRN] epoch = 024, cost = 1.90e+00, |grad| = 2.80e-01, acc = 4.14e-01 (0.21s)\n",
      "[VAL] epoch = 024, data_cost = 1.90e+00, cost = 1.92e+00, acc = 5.34e-01 (0.12s)\n"
     ]
    },
    {
     "name": "stderr",
     "output_type": "stream",
     "text": [
      "                                                                \n",
      "  0%|          | 77/10000000000 [01:02<1147570:33:28,  2.42it/s]\n",
      "  0%|          | 24/100000 [00:12<12:01:07,  2.31it/s]\u001b[A\n",
      "                                                                \n",
      "  0%|          | 77/10000000000 [01:02<1147570:33:28,  2.42it/s]\n",
      "  0%|          | 25/100000 [00:12<11:53:03,  2.34it/s]\u001b[A"
     ]
    },
    {
     "name": "stdout",
     "output_type": "stream",
     "text": [
      "[TST] epoch = 024, cost = 1.92e+00, acc = 5.55e-01 (0.10s)\n",
      "[TRN] epoch = 025, cost = 1.90e+00, |grad| = 2.60e-01, acc = 3.64e-01 (0.18s)\n"
     ]
    },
    {
     "name": "stderr",
     "output_type": "stream",
     "text": [
      "                                                                \n",
      "  0%|          | 77/10000000000 [01:02<1147570:33:28,  2.42it/s]\n",
      "                                                                \n",
      "  0%|          | 77/10000000000 [01:02<1147570:33:28,  2.42it/s]\n",
      "  0%|          | 25/100000 [00:12<11:53:03,  2.34it/s]\u001b[A"
     ]
    },
    {
     "name": "stdout",
     "output_type": "stream",
     "text": [
      "[VAL] epoch = 025, data_cost = 1.89e+00, cost = 1.92e+00, acc = 5.42e-01 (0.10s)\n",
      "[TST] epoch = 025, cost = 1.92e+00, acc = 5.58e-01 (0.09s)\n"
     ]
    },
    {
     "name": "stderr",
     "output_type": "stream",
     "text": [
      "\n",
      "                                                                \n",
      "  0%|          | 77/10000000000 [01:03<1147570:33:28,  2.42it/s]\n",
      "                                                                \n",
      "  0%|          | 77/10000000000 [01:03<1147570:33:28,  2.42it/s]\n",
      "  0%|          | 26/100000 [00:12<11:35:39,  2.40it/s]\u001b[A"
     ]
    },
    {
     "name": "stdout",
     "output_type": "stream",
     "text": [
      "[TRN] epoch = 026, cost = 1.90e+00, |grad| = 2.40e-01, acc = 3.57e-01 (0.18s)\n",
      "[VAL] epoch = 026, data_cost = 1.89e+00, cost = 1.92e+00, acc = 5.42e-01 (0.10s)\n"
     ]
    },
    {
     "name": "stderr",
     "output_type": "stream",
     "text": [
      "                                                                \n",
      "  0%|          | 77/10000000000 [01:03<1147570:33:28,  2.42it/s]\n",
      "  0%|          | 26/100000 [00:13<11:35:39,  2.40it/s]\u001b[A\n",
      "                                                                \n",
      "  0%|          | 77/10000000000 [01:03<1147570:33:28,  2.42it/s]\n",
      "  0%|          | 27/100000 [00:13<11:16:11,  2.46it/s]\u001b[A"
     ]
    },
    {
     "name": "stdout",
     "output_type": "stream",
     "text": [
      "[TST] epoch = 026, cost = 1.91e+00, acc = 5.62e-01 (0.10s)\n",
      "[TRN] epoch = 027, cost = 1.89e+00, |grad| = 3.49e-01, acc = 3.36e-01 (0.16s)\n"
     ]
    },
    {
     "name": "stderr",
     "output_type": "stream",
     "text": [
      "                                                                \n",
      "  0%|          | 77/10000000000 [01:03<1147570:33:28,  2.42it/s]\n",
      "                                                                \n",
      "  0%|          | 77/10000000000 [01:03<1147570:33:28,  2.42it/s]\n",
      "  0%|          | 27/100000 [00:13<11:16:11,  2.46it/s]\u001b[A"
     ]
    },
    {
     "name": "stdout",
     "output_type": "stream",
     "text": [
      "[VAL] epoch = 027, data_cost = 1.89e+00, cost = 1.92e+00, acc = 5.44e-01 (0.10s)\n",
      "[TST] epoch = 027, cost = 1.91e+00, acc = 5.65e-01 (0.10s)\n"
     ]
    },
    {
     "name": "stderr",
     "output_type": "stream",
     "text": [
      "\n",
      "                                                                \n",
      "  0%|          | 77/10000000000 [01:03<1147570:33:28,  2.42it/s]\n",
      "                                                                \n",
      "  0%|          | 77/10000000000 [01:03<1147570:33:28,  2.42it/s]\n",
      "  0%|          | 28/100000 [00:13<11:27:50,  2.42it/s]\u001b[A"
     ]
    },
    {
     "name": "stdout",
     "output_type": "stream",
     "text": [
      "[TRN] epoch = 028, cost = 1.89e+00, |grad| = 2.14e-01, acc = 3.07e-01 (0.18s)\n",
      "[VAL] epoch = 028, data_cost = 1.89e+00, cost = 1.91e+00, acc = 5.46e-01 (0.11s)\n"
     ]
    },
    {
     "name": "stderr",
     "output_type": "stream",
     "text": [
      "                                                                \n",
      "  0%|          | 77/10000000000 [01:04<1147570:33:28,  2.42it/s]\n",
      "  0%|          | 28/100000 [00:13<11:27:50,  2.42it/s]\u001b[A\n",
      "                                                                \n",
      "  0%|          | 77/10000000000 [01:04<1147570:33:28,  2.42it/s]\n",
      "  0%|          | 29/100000 [00:14<11:22:19,  2.44it/s]\u001b[A"
     ]
    },
    {
     "name": "stdout",
     "output_type": "stream",
     "text": [
      "[TST] epoch = 028, cost = 1.91e+00, acc = 5.73e-01 (0.10s)\n",
      "[TRN] epoch = 029, cost = 1.89e+00, |grad| = 2.48e-01, acc = 3.57e-01 (0.18s)\n"
     ]
    },
    {
     "name": "stderr",
     "output_type": "stream",
     "text": [
      "                                                                \n",
      "  0%|          | 77/10000000000 [01:04<1147570:33:28,  2.42it/s]\n",
      "                                                                \n",
      "  0%|          | 77/10000000000 [01:04<1147570:33:28,  2.42it/s]\n",
      "  0%|          | 29/100000 [00:14<11:22:19,  2.44it/s]\u001b[A"
     ]
    },
    {
     "name": "stdout",
     "output_type": "stream",
     "text": [
      "[VAL] epoch = 029, data_cost = 1.88e+00, cost = 1.91e+00, acc = 5.58e-01 (0.10s)\n",
      "[TST] epoch = 029, cost = 1.91e+00, acc = 5.65e-01 (0.10s)\n"
     ]
    },
    {
     "name": "stderr",
     "output_type": "stream",
     "text": [
      "\n",
      "                                                                \n",
      "  0%|          | 77/10000000000 [01:04<1147570:33:28,  2.42it/s]\n",
      "                                                                \n",
      "  0%|          | 77/10000000000 [01:04<1147570:33:28,  2.42it/s]\n",
      "  0%|          | 30/100000 [00:14<11:15:04,  2.47it/s]\u001b[A"
     ]
    },
    {
     "name": "stdout",
     "output_type": "stream",
     "text": [
      "[TRN] epoch = 030, cost = 1.87e+00, |grad| = 2.47e-01, acc = 3.64e-01 (0.18s)\n",
      "[VAL] epoch = 030, data_cost = 1.88e+00, cost = 1.91e+00, acc = 5.60e-01 (0.09s)\n"
     ]
    },
    {
     "name": "stderr",
     "output_type": "stream",
     "text": [
      "                                                                \n",
      "  0%|          | 77/10000000000 [01:04<1147570:33:28,  2.42it/s]\n",
      "  0%|          | 30/100000 [00:14<11:15:04,  2.47it/s]\u001b[A\n",
      "                                                                \n",
      "  0%|          | 77/10000000000 [01:05<1147570:33:28,  2.42it/s]\n",
      "  0%|          | 31/100000 [00:14<11:34:48,  2.40it/s]\u001b[A"
     ]
    },
    {
     "name": "stdout",
     "output_type": "stream",
     "text": [
      "[TST] epoch = 030, cost = 1.91e+00, acc = 5.60e-01 (0.12s)\n",
      "[TRN] epoch = 031, cost = 1.86e+00, |grad| = 2.51e-01, acc = 4.36e-01 (0.18s)\n"
     ]
    },
    {
     "name": "stderr",
     "output_type": "stream",
     "text": [
      "                                                                \n",
      "  0%|          | 77/10000000000 [01:05<1147570:33:28,  2.42it/s]\n",
      "                                                                \n",
      "  0%|          | 77/10000000000 [01:05<1147570:33:28,  2.42it/s]\n",
      "  0%|          | 31/100000 [00:15<11:34:48,  2.40it/s]\u001b[A"
     ]
    },
    {
     "name": "stdout",
     "output_type": "stream",
     "text": [
      "[VAL] epoch = 031, data_cost = 1.88e+00, cost = 1.91e+00, acc = 5.52e-01 (0.10s)\n",
      "[TST] epoch = 031, cost = 1.90e+00, acc = 5.54e-01 (0.10s)\n"
     ]
    },
    {
     "name": "stderr",
     "output_type": "stream",
     "text": [
      "\n",
      "                                                                \n",
      "  0%|          | 77/10000000000 [01:05<1147570:33:28,  2.42it/s]\n",
      "                                                                \n",
      "  0%|          | 77/10000000000 [01:05<1147570:33:28,  2.42it/s]\n",
      "  0%|          | 32/100000 [00:15<11:22:44,  2.44it/s]\u001b[A"
     ]
    },
    {
     "name": "stdout",
     "output_type": "stream",
     "text": [
      "[TRN] epoch = 032, cost = 1.85e+00, |grad| = 3.16e-01, acc = 4.86e-01 (0.19s)\n",
      "[VAL] epoch = 032, data_cost = 1.88e+00, cost = 1.91e+00, acc = 5.54e-01 (0.11s)\n"
     ]
    },
    {
     "name": "stderr",
     "output_type": "stream",
     "text": [
      "                                                                \n",
      "  0%|          | 77/10000000000 [01:05<1147570:33:28,  2.42it/s]\n",
      "  0%|          | 32/100000 [00:15<11:22:44,  2.44it/s]\u001b[A\n",
      "                                                                \n",
      "  0%|          | 77/10000000000 [01:05<1147570:33:28,  2.42it/s]\n",
      "  0%|          | 33/100000 [00:15<11:36:59,  2.39it/s]\u001b[A"
     ]
    },
    {
     "name": "stdout",
     "output_type": "stream",
     "text": [
      "[TST] epoch = 032, cost = 1.90e+00, acc = 5.58e-01 (0.13s)\n",
      "[TRN] epoch = 033, cost = 1.87e+00, |grad| = 3.03e-01, acc = 4.50e-01 (0.17s)\n"
     ]
    },
    {
     "name": "stderr",
     "output_type": "stream",
     "text": [
      "                                                                \n",
      "  0%|          | 77/10000000000 [01:06<1147570:33:28,  2.42it/s]\n",
      "                                                                \n",
      "  0%|          | 77/10000000000 [01:06<1147570:33:28,  2.42it/s]\n",
      "  0%|          | 33/100000 [00:15<11:36:59,  2.39it/s]\u001b[A"
     ]
    },
    {
     "name": "stdout",
     "output_type": "stream",
     "text": [
      "[VAL] epoch = 033, data_cost = 1.88e+00, cost = 1.91e+00, acc = 5.86e-01 (0.12s)\n",
      "[TST] epoch = 033, cost = 1.90e+00, acc = 5.90e-01 (0.12s)\n"
     ]
    },
    {
     "name": "stderr",
     "output_type": "stream",
     "text": [
      "\n",
      "                                                                \n",
      "  0%|          | 77/10000000000 [01:06<1147570:33:28,  2.42it/s]\n",
      "                                                                \n",
      "  0%|          | 77/10000000000 [01:06<1147570:33:28,  2.42it/s]\n",
      "  0%|          | 34/100000 [00:16<12:10:09,  2.28it/s]\u001b[A"
     ]
    },
    {
     "name": "stdout",
     "output_type": "stream",
     "text": [
      "[TRN] epoch = 034, cost = 1.84e+00, |grad| = 2.49e-01, acc = 4.50e-01 (0.21s)\n",
      "[VAL] epoch = 034, data_cost = 1.87e+00, cost = 1.90e+00, acc = 6.18e-01 (0.12s)\n"
     ]
    },
    {
     "name": "stderr",
     "output_type": "stream",
     "text": [
      "                                                                \n",
      "  0%|          | 77/10000000000 [01:06<1147570:33:28,  2.42it/s]\n",
      "  0%|          | 34/100000 [00:16<12:10:09,  2.28it/s]\u001b[A\n",
      "                                                                \n"
     ]
    },
    {
     "name": "stdout",
     "output_type": "stream",
     "text": [
      "[TST] epoch = 034, cost = 1.90e+00, acc = 6.19e-01 (0.10s)\n"
     ]
    },
    {
     "name": "stderr",
     "output_type": "stream",
     "text": [
      "  0%|          | 77/10000000000 [01:06<1147570:33:28,  2.42it/s]\n",
      "                                                                \n",
      "  0%|          | 77/10000000000 [01:06<1147570:33:28,  2.42it/s]\n",
      "  0%|          | 35/100000 [00:16<12:06:53,  2.29it/s]\u001b[A"
     ]
    },
    {
     "name": "stdout",
     "output_type": "stream",
     "text": [
      "[TRN] epoch = 035, cost = 1.89e+00, |grad| = 2.25e-01, acc = 3.21e-01 (0.18s)\n",
      "[VAL] epoch = 035, data_cost = 1.87e+00, cost = 1.90e+00, acc = 6.52e-01 (0.10s)\n"
     ]
    },
    {
     "name": "stderr",
     "output_type": "stream",
     "text": [
      "                                                                \n",
      "  0%|          | 77/10000000000 [01:07<1147570:33:28,  2.42it/s]\n",
      "  0%|          | 35/100000 [00:16<12:06:53,  2.29it/s]\u001b[A\n",
      "                                                                \n",
      "  0%|          | 77/10000000000 [01:07<1147570:33:28,  2.42it/s]\n",
      "  0%|          | 36/100000 [00:17<11:57:35,  2.32it/s]\u001b[A"
     ]
    },
    {
     "name": "stdout",
     "output_type": "stream",
     "text": [
      "[TST] epoch = 035, cost = 1.89e+00, acc = 6.59e-01 (0.09s)\n",
      "[TRN] epoch = 036, cost = 1.87e+00, |grad| = 2.40e-01, acc = 3.86e-01 (0.17s)\n"
     ]
    },
    {
     "name": "stderr",
     "output_type": "stream",
     "text": [
      "                                                                \n",
      "  0%|          | 77/10000000000 [01:07<1147570:33:28,  2.42it/s]\n",
      "                                                                \n",
      "  0%|          | 77/10000000000 [01:07<1147570:33:28,  2.42it/s]\n",
      "  0%|          | 36/100000 [00:17<11:57:35,  2.32it/s]\u001b[A"
     ]
    },
    {
     "name": "stdout",
     "output_type": "stream",
     "text": [
      "[VAL] epoch = 036, data_cost = 1.86e+00, cost = 1.90e+00, acc = 6.78e-01 (0.11s)\n",
      "[TST] epoch = 036, cost = 1.89e+00, acc = 6.92e-01 (0.11s)\n"
     ]
    },
    {
     "name": "stderr",
     "output_type": "stream",
     "text": [
      "\n",
      "                                                                \n",
      "  0%|          | 77/10000000000 [01:07<1147570:33:28,  2.42it/s]\n",
      "                                                                \n",
      "  0%|          | 77/10000000000 [01:07<1147570:33:28,  2.42it/s]\n",
      "  0%|          | 37/100000 [00:17<11:55:36,  2.33it/s]\u001b[A"
     ]
    },
    {
     "name": "stdout",
     "output_type": "stream",
     "text": [
      "[TRN] epoch = 037, cost = 1.83e+00, |grad| = 2.89e-01, acc = 4.57e-01 (0.17s)\n",
      "[VAL] epoch = 037, data_cost = 1.86e+00, cost = 1.89e+00, acc = 7.18e-01 (0.10s)\n"
     ]
    },
    {
     "name": "stderr",
     "output_type": "stream",
     "text": [
      "                                                                \n",
      "  0%|          | 77/10000000000 [01:07<1147570:33:28,  2.42it/s]\n",
      "  0%|          | 37/100000 [00:17<11:55:36,  2.33it/s]\u001b[A\n",
      "                                                                \n",
      "\u001b[A                                                   "
     ]
    },
    {
     "name": "stdout",
     "output_type": "stream",
     "text": [
      "[TST] epoch = 037, cost = 1.88e+00, acc = 7.23e-01 (0.10s)\n"
     ]
    },
    {
     "name": "stderr",
     "output_type": "stream",
     "text": [
      "  0%|          | 77/10000000000 [01:08<1147570:33:28,  2.42it/s]\n",
      "                                                                \n",
      "  0%|          | 77/10000000000 [01:08<1147570:33:28,  2.42it/s]\n",
      "  0%|          | 38/100000 [00:17<11:45:09,  2.36it/s]\u001b[A"
     ]
    },
    {
     "name": "stdout",
     "output_type": "stream",
     "text": [
      "[TRN] epoch = 038, cost = 1.91e+00, |grad| = 2.92e-01, acc = 3.43e-01 (0.19s)\n",
      "[VAL] epoch = 038, data_cost = 1.85e+00, cost = 1.89e+00, acc = 7.52e-01 (0.10s)\n"
     ]
    },
    {
     "name": "stderr",
     "output_type": "stream",
     "text": [
      "                                                                \n",
      "  0%|          | 77/10000000000 [01:08<1147570:33:28,  2.42it/s]\n",
      "  0%|          | 38/100000 [00:18<11:45:09,  2.36it/s]\u001b[A\n",
      "                                                                \n",
      "  0%|          | 77/10000000000 [01:08<1147570:33:28,  2.42it/s]\n",
      "  0%|          | 39/100000 [00:18<11:50:44,  2.34it/s]\u001b[A"
     ]
    },
    {
     "name": "stdout",
     "output_type": "stream",
     "text": [
      "[TST] epoch = 038, cost = 1.88e+00, acc = 7.73e-01 (0.10s)\n",
      "[TRN] epoch = 039, cost = 1.80e+00, |grad| = 3.42e-01, acc = 5.50e-01 (0.19s)\n"
     ]
    },
    {
     "name": "stderr",
     "output_type": "stream",
     "text": [
      "                                                                \n",
      "  0%|          | 77/10000000000 [01:08<1147570:33:28,  2.42it/s]\n",
      "                                                                \n",
      "  0%|          | 77/10000000000 [01:08<1147570:33:28,  2.42it/s]\n",
      "  0%|          | 39/100000 [00:18<11:50:44,  2.34it/s]\u001b[A"
     ]
    },
    {
     "name": "stdout",
     "output_type": "stream",
     "text": [
      "[VAL] epoch = 039, data_cost = 1.85e+00, cost = 1.88e+00, acc = 7.64e-01 (0.11s)\n",
      "[TST] epoch = 039, cost = 1.88e+00, acc = 7.89e-01 (0.11s)\n"
     ]
    },
    {
     "name": "stderr",
     "output_type": "stream",
     "text": [
      "\n",
      "                                                                \n",
      "  0%|          | 77/10000000000 [01:08<1147570:33:28,  2.42it/s]\n",
      "                                                                \n",
      "  0%|          | 77/10000000000 [01:09<1147570:33:28,  2.42it/s]\n",
      "  0%|          | 40/100000 [00:18<11:35:18,  2.40it/s]\u001b[A"
     ]
    },
    {
     "name": "stdout",
     "output_type": "stream",
     "text": [
      "[TRN] epoch = 040, cost = 1.86e+00, |grad| = 3.27e-01, acc = 4.57e-01 (0.17s)\n",
      "[VAL] epoch = 040, data_cost = 1.84e+00, cost = 1.88e+00, acc = 7.80e-01 (0.10s)\n"
     ]
    },
    {
     "name": "stderr",
     "output_type": "stream",
     "text": [
      "                                                                \n",
      "  0%|          | 77/10000000000 [01:09<1147570:33:28,  2.42it/s]\n",
      "  0%|          | 40/100000 [00:18<11:35:18,  2.40it/s]\u001b[A\n",
      "                                                                \n",
      "  0%|          | 77/10000000000 [01:09<1147570:33:28,  2.42it/s]\n",
      "  0%|          | 41/100000 [00:19<11:35:59,  2.39it/s]\u001b[A"
     ]
    },
    {
     "name": "stdout",
     "output_type": "stream",
     "text": [
      "[TST] epoch = 040, cost = 1.87e+00, acc = 8.02e-01 (0.10s)\n",
      "[TRN] epoch = 041, cost = 1.86e+00, |grad| = 3.15e-01, acc = 4.43e-01 (0.18s)\n"
     ]
    },
    {
     "name": "stderr",
     "output_type": "stream",
     "text": [
      "                                                                \n",
      "  0%|          | 77/10000000000 [01:09<1147570:33:28,  2.42it/s]\n",
      "                                                                \n",
      "  0%|          | 77/10000000000 [01:09<1147570:33:28,  2.42it/s]\n",
      "  0%|          | 41/100000 [00:19<11:35:59,  2.39it/s]\u001b[A"
     ]
    },
    {
     "name": "stdout",
     "output_type": "stream",
     "text": [
      "[VAL] epoch = 041, data_cost = 1.84e+00, cost = 1.87e+00, acc = 7.70e-01 (0.11s)\n",
      "[TST] epoch = 041, cost = 1.87e+00, acc = 8.09e-01 (0.09s)\n"
     ]
    },
    {
     "name": "stderr",
     "output_type": "stream",
     "text": [
      "\n",
      "                                                                \n",
      "  0%|          | 77/10000000000 [01:09<1147570:33:28,  2.42it/s]\n",
      "                                                                \n",
      "  0%|          | 77/10000000000 [01:09<1147570:33:28,  2.42it/s]\n",
      "  0%|          | 42/100000 [00:19<11:23:10,  2.44it/s]\u001b[A"
     ]
    },
    {
     "name": "stdout",
     "output_type": "stream",
     "text": [
      "[TRN] epoch = 042, cost = 1.86e+00, |grad| = 2.77e-01, acc = 4.07e-01 (0.15s)\n",
      "[VAL] epoch = 042, data_cost = 1.83e+00, cost = 1.87e+00, acc = 7.52e-01 (0.10s)\n"
     ]
    },
    {
     "name": "stderr",
     "output_type": "stream",
     "text": [
      "                                                                \n",
      "  0%|          | 77/10000000000 [01:09<1147570:33:28,  2.42it/s]\n",
      "  0%|          | 42/100000 [00:19<11:23:10,  2.44it/s]\u001b[A\n",
      "                                                                \n",
      "  0%|          | 77/10000000000 [01:10<1147570:33:28,  2.42it/s]\n",
      "  0%|          | 43/100000 [00:19<11:14:52,  2.47it/s]\u001b[A"
     ]
    },
    {
     "name": "stdout",
     "output_type": "stream",
     "text": [
      "[TST] epoch = 042, cost = 1.86e+00, acc = 7.87e-01 (0.11s)\n",
      "[TRN] epoch = 043, cost = 1.85e+00, |grad| = 2.96e-01, acc = 4.14e-01 (0.18s)\n"
     ]
    },
    {
     "name": "stderr",
     "output_type": "stream",
     "text": [
      "                                                                \n",
      "  0%|          | 77/10000000000 [01:10<1147570:33:28,  2.42it/s]\n",
      "                                                                \n",
      "  0%|          | 77/10000000000 [01:10<1147570:33:28,  2.42it/s]\n",
      "  0%|          | 43/100000 [00:20<11:14:52,  2.47it/s]\u001b[A"
     ]
    },
    {
     "name": "stdout",
     "output_type": "stream",
     "text": [
      "[VAL] epoch = 043, data_cost = 1.83e+00, cost = 1.87e+00, acc = 7.28e-01 (0.11s)\n",
      "[TST] epoch = 043, cost = 1.86e+00, acc = 7.48e-01 (0.10s)\n"
     ]
    },
    {
     "name": "stderr",
     "output_type": "stream",
     "text": [
      "\n",
      "                                                                \n",
      "  0%|          | 77/10000000000 [01:10<1147570:33:28,  2.42it/s]\n",
      "                                                                \n",
      "  0%|          | 77/10000000000 [01:10<1147570:33:28,  2.42it/s]\n",
      "  0%|          | 44/100000 [00:20<11:19:08,  2.45it/s]\u001b[A"
     ]
    },
    {
     "name": "stdout",
     "output_type": "stream",
     "text": [
      "[TRN] epoch = 044, cost = 1.83e+00, |grad| = 3.11e-01, acc = 4.36e-01 (0.18s)\n",
      "[VAL] epoch = 044, data_cost = 1.83e+00, cost = 1.86e+00, acc = 7.16e-01 (0.10s)\n"
     ]
    },
    {
     "name": "stderr",
     "output_type": "stream",
     "text": [
      "                                                                \n",
      "  0%|          | 77/10000000000 [01:10<1147570:33:28,  2.42it/s]\n",
      "  0%|          | 44/100000 [00:20<11:19:08,  2.45it/s]\u001b[A\n",
      "                                                                \n",
      "  0%|          | 77/10000000000 [01:10<1147570:33:28,  2.42it/s]\n",
      "  0%|          | 45/100000 [00:20<11:15:05,  2.47it/s]\u001b[A"
     ]
    },
    {
     "name": "stdout",
     "output_type": "stream",
     "text": [
      "[TST] epoch = 044, cost = 1.86e+00, acc = 7.35e-01 (0.11s)\n",
      "[TRN] epoch = 045, cost = 1.84e+00, |grad| = 2.77e-01, acc = 4.07e-01 (0.17s)\n"
     ]
    },
    {
     "name": "stderr",
     "output_type": "stream",
     "text": [
      "                                                                \n",
      "  0%|          | 77/10000000000 [01:11<1147570:33:28,  2.42it/s]\n",
      "                                                                \n",
      "  0%|          | 77/10000000000 [01:11<1147570:33:28,  2.42it/s]\n",
      "  0%|          | 45/100000 [00:20<11:15:05,  2.47it/s]\u001b[A"
     ]
    },
    {
     "name": "stdout",
     "output_type": "stream",
     "text": [
      "[VAL] epoch = 045, data_cost = 1.82e+00, cost = 1.86e+00, acc = 7.16e-01 (0.11s)\n",
      "[TST] epoch = 045, cost = 1.85e+00, acc = 7.35e-01 (0.11s)\n"
     ]
    },
    {
     "name": "stderr",
     "output_type": "stream",
     "text": [
      "\n",
      "                                                                \n",
      "  0%|          | 77/10000000000 [01:11<1147570:33:28,  2.42it/s]\n",
      "                                                                \n",
      "  0%|          | 77/10000000000 [01:11<1147570:33:28,  2.42it/s]\n",
      "  0%|          | 46/100000 [00:21<11:28:44,  2.42it/s]\u001b[A"
     ]
    },
    {
     "name": "stdout",
     "output_type": "stream",
     "text": [
      "[TRN] epoch = 046, cost = 1.83e+00, |grad| = 3.31e-01, acc = 4.93e-01 (0.19s)\n",
      "[VAL] epoch = 046, data_cost = 1.82e+00, cost = 1.86e+00, acc = 7.06e-01 (0.10s)\n"
     ]
    },
    {
     "name": "stderr",
     "output_type": "stream",
     "text": [
      "                                                                \n",
      "  0%|          | 77/10000000000 [01:11<1147570:33:28,  2.42it/s]\n",
      "  0%|          | 46/100000 [00:21<11:28:44,  2.42it/s]\u001b[A"
     ]
    },
    {
     "name": "stdout",
     "output_type": "stream",
     "text": [
      "[TST] epoch = 046, cost = 1.85e+00, acc = 7.34e-01 (0.11s)\n"
     ]
    },
    {
     "name": "stderr",
     "output_type": "stream",
     "text": [
      "\n",
      "                                                                \n",
      "  0%|          | 77/10000000000 [01:11<1147570:33:28,  2.42it/s]\n",
      "                                                                \n",
      "  0%|          | 77/10000000000 [01:11<1147570:33:28,  2.42it/s]\n",
      "  0%|          | 47/100000 [00:21<12:03:04,  2.30it/s]\u001b[A"
     ]
    },
    {
     "name": "stdout",
     "output_type": "stream",
     "text": [
      "[TRN] epoch = 047, cost = 1.73e+00, |grad| = 3.42e-01, acc = 5.29e-01 (0.22s)\n",
      "[VAL] epoch = 047, data_cost = 1.82e+00, cost = 1.86e+00, acc = 7.02e-01 (0.11s)\n"
     ]
    },
    {
     "name": "stderr",
     "output_type": "stream",
     "text": [
      "                                                                \n",
      "  0%|          | 77/10000000000 [01:12<1147570:33:28,  2.42it/s]\n",
      "  0%|          | 47/100000 [00:21<12:03:04,  2.30it/s]\u001b[A"
     ]
    },
    {
     "name": "stdout",
     "output_type": "stream",
     "text": [
      "[TST] epoch = 047, cost = 1.85e+00, acc = 7.33e-01 (0.14s)\n"
     ]
    },
    {
     "name": "stderr",
     "output_type": "stream",
     "text": [
      "\n",
      "                                                                \n",
      "  0%|          | 77/10000000000 [01:12<1147570:33:28,  2.42it/s]\n",
      "                                                                \n",
      "  0%|          | 77/10000000000 [01:12<1147570:33:28,  2.42it/s]\n",
      "  0%|          | 48/100000 [00:22<12:58:31,  2.14it/s]\u001b[A"
     ]
    },
    {
     "name": "stdout",
     "output_type": "stream",
     "text": [
      "[TRN] epoch = 048, cost = 1.80e+00, |grad| = 2.73e-01, acc = 4.79e-01 (0.23s)\n",
      "[VAL] epoch = 048, data_cost = 1.82e+00, cost = 1.86e+00, acc = 6.92e-01 (0.12s)\n"
     ]
    },
    {
     "name": "stderr",
     "output_type": "stream",
     "text": [
      "                                                                \n",
      "  0%|          | 77/10000000000 [01:12<1147570:33:28,  2.42it/s]\n",
      "  0%|          | 48/100000 [00:22<12:58:31,  2.14it/s]\u001b[A"
     ]
    },
    {
     "name": "stdout",
     "output_type": "stream",
     "text": [
      "[TST] epoch = 048, cost = 1.85e+00, acc = 7.34e-01 (0.11s)\n"
     ]
    },
    {
     "name": "stderr",
     "output_type": "stream",
     "text": [
      "\n",
      "                                                                \n",
      "  0%|          | 77/10000000000 [01:12<1147570:33:28,  2.42it/s]\n",
      "                                                                \n",
      "  0%|          | 77/10000000000 [01:13<1147570:33:28,  2.42it/s]\n",
      "  0%|          | 49/100000 [00:22<13:12:38,  2.10it/s]\u001b[A"
     ]
    },
    {
     "name": "stdout",
     "output_type": "stream",
     "text": [
      "[TRN] epoch = 049, cost = 1.80e+00, |grad| = 3.07e-01, acc = 4.79e-01 (0.26s)\n",
      "[VAL] epoch = 049, data_cost = 1.81e+00, cost = 1.85e+00, acc = 6.98e-01 (0.12s)\n"
     ]
    },
    {
     "name": "stderr",
     "output_type": "stream",
     "text": [
      "                                                                \n",
      "  0%|          | 77/10000000000 [01:13<1147570:33:28,  2.42it/s]\n",
      "  0%|          | 49/100000 [00:22<13:12:38,  2.10it/s]\u001b[A\n"
     ]
    },
    {
     "name": "stdout",
     "output_type": "stream",
     "text": [
      "[TST] epoch = 049, cost = 1.85e+00, acc = 7.38e-01 (0.11s)\n"
     ]
    },
    {
     "name": "stderr",
     "output_type": "stream",
     "text": [
      "                                                                \n",
      "  0%|          | 77/10000000000 [01:13<1147570:33:28,  2.42it/s]\n",
      "                                                                \n",
      "  0%|          | 77/10000000000 [01:13<1147570:33:28,  2.42it/s]\n",
      "  0%|          | 50/100000 [00:23<13:09:21,  2.11it/s]\u001b[A"
     ]
    },
    {
     "name": "stdout",
     "output_type": "stream",
     "text": [
      "[TRN] epoch = 050, cost = 1.81e+00, |grad| = 2.74e-01, acc = 4.36e-01 (0.19s)\n",
      "[VAL] epoch = 050, data_cost = 1.81e+00, cost = 1.85e+00, acc = 7.04e-01 (0.11s)\n"
     ]
    },
    {
     "name": "stderr",
     "output_type": "stream",
     "text": [
      "                                                                \n",
      "  0%|          | 77/10000000000 [01:13<1147570:33:28,  2.42it/s]\n",
      "  0%|          | 50/100000 [00:23<13:09:21,  2.11it/s]\u001b[A\n",
      "                                                                \n",
      "  0%|          | 77/10000000000 [01:13<1147570:33:28,  2.42it/s]\n",
      "  0%|          | 51/100000 [00:23<12:42:02,  2.19it/s]\u001b[A"
     ]
    },
    {
     "name": "stdout",
     "output_type": "stream",
     "text": [
      "[TST] epoch = 050, cost = 1.84e+00, acc = 7.36e-01 (0.10s)\n",
      "[TRN] epoch = 051, cost = 1.77e+00, |grad| = 3.87e-01, acc = 5.21e-01 (0.18s)\n"
     ]
    },
    {
     "name": "stderr",
     "output_type": "stream",
     "text": [
      "                                                                \n",
      "  0%|          | 77/10000000000 [01:13<1147570:33:28,  2.42it/s]\n",
      "                                                                \n",
      "  0%|          | 77/10000000000 [01:13<1147570:33:28,  2.42it/s]\n",
      "  0%|          | 51/100000 [00:23<12:42:02,  2.19it/s]\u001b[A"
     ]
    },
    {
     "name": "stdout",
     "output_type": "stream",
     "text": [
      "[VAL] epoch = 051, data_cost = 1.81e+00, cost = 1.85e+00, acc = 7.22e-01 (0.11s)\n",
      "[TST] epoch = 051, cost = 1.84e+00, acc = 7.63e-01 (0.11s)\n"
     ]
    },
    {
     "name": "stderr",
     "output_type": "stream",
     "text": [
      "\n",
      "                                                                \n",
      "  0%|          | 77/10000000000 [01:14<1147570:33:28,  2.42it/s]\n",
      "                                                                \n",
      "  0%|          | 77/10000000000 [01:14<1147570:33:28,  2.42it/s]\n",
      "  0%|          | 52/100000 [00:24<12:31:45,  2.22it/s]\u001b[A"
     ]
    },
    {
     "name": "stdout",
     "output_type": "stream",
     "text": [
      "[TRN] epoch = 052, cost = 1.74e+00, |grad| = 3.21e-01, acc = 5.79e-01 (0.20s)\n",
      "[VAL] epoch = 052, data_cost = 1.80e+00, cost = 1.85e+00, acc = 7.36e-01 (0.12s)\n"
     ]
    },
    {
     "name": "stderr",
     "output_type": "stream",
     "text": [
      "                                                                \n",
      "  0%|          | 77/10000000000 [01:14<1147570:33:28,  2.42it/s]\n",
      "  0%|          | 52/100000 [00:24<12:31:45,  2.22it/s]\u001b[A\n",
      "                                                                \r"
     ]
    },
    {
     "name": "stdout",
     "output_type": "stream",
     "text": [
      "[TST] epoch = 052, cost = 1.84e+00, acc = 7.85e-01 (0.11s)\n"
     ]
    },
    {
     "name": "stderr",
     "output_type": "stream",
     "text": [
      "\n",
      "  0%|          | 77/10000000000 [01:14<1147570:33:28,  2.42it/s]\n",
      "                                                                \n",
      "  0%|          | 77/10000000000 [01:14<1147570:33:28,  2.42it/s]\n",
      "  0%|          | 53/100000 [00:24<12:23:09,  2.24it/s]\u001b[A"
     ]
    },
    {
     "name": "stdout",
     "output_type": "stream",
     "text": [
      "[TRN] epoch = 053, cost = 1.79e+00, |grad| = 3.38e-01, acc = 4.86e-01 (0.18s)\n",
      "[VAL] epoch = 053, data_cost = 1.80e+00, cost = 1.84e+00, acc = 7.68e-01 (0.11s)\n"
     ]
    },
    {
     "name": "stderr",
     "output_type": "stream",
     "text": [
      "                                                                \n",
      "  0%|          | 77/10000000000 [01:14<1147570:33:28,  2.42it/s]\n",
      "  0%|          | 53/100000 [00:24<12:23:09,  2.24it/s]\u001b[A"
     ]
    },
    {
     "name": "stdout",
     "output_type": "stream",
     "text": [
      "[TST] epoch = 053, cost = 1.83e+00, acc = 8.09e-01 (0.09s)\n"
     ]
    },
    {
     "ename": "KeyboardInterrupt",
     "evalue": "",
     "output_type": "error",
     "traceback": [
      "\u001b[0;31m---------------------------------------------------------------------------\u001b[0m",
      "\u001b[0;31mKeyboardInterrupt\u001b[0m                         Traceback (most recent call last)",
      "\u001b[0;32m<ipython-input-12-210ec5b7848b>\u001b[0m in \u001b[0;36m<module>\u001b[0;34m\u001b[0m\n\u001b[1;32m     66\u001b[0m     \u001b[0mfeed_dict\u001b[0m \u001b[0;34m=\u001b[0m \u001b[0;34m{\u001b[0m\u001b[0mGCNN\u001b[0m\u001b[0;34m.\u001b[0m\u001b[0midx_nodes\u001b[0m\u001b[0;34m:\u001b[0m \u001b[0mtrain_idx\u001b[0m\u001b[0;34m,\u001b[0m \u001b[0mGCNN\u001b[0m\u001b[0;34m.\u001b[0m\u001b[0mkeep_prob\u001b[0m\u001b[0;34m:\u001b[0m \u001b[0;36m0.4\u001b[0m\u001b[0;34m}\u001b[0m\u001b[0;34m\u001b[0m\u001b[0;34m\u001b[0m\u001b[0m\n\u001b[1;32m     67\u001b[0m \u001b[0;34m\u001b[0m\u001b[0m\n\u001b[0;32m---> 68\u001b[0;31m     \u001b[0m_\u001b[0m\u001b[0;34m,\u001b[0m \u001b[0mcurrent_training_loss\u001b[0m\u001b[0;34m,\u001b[0m \u001b[0mnorm_grad\u001b[0m\u001b[0;34m,\u001b[0m \u001b[0mcurrent_acc_training\u001b[0m \u001b[0;34m=\u001b[0m \u001b[0mGCNN\u001b[0m\u001b[0;34m.\u001b[0m\u001b[0msession\u001b[0m\u001b[0;34m.\u001b[0m\u001b[0mrun\u001b[0m\u001b[0;34m(\u001b[0m\u001b[0;34m[\u001b[0m\u001b[0mGCNN\u001b[0m\u001b[0;34m.\u001b[0m\u001b[0mopt_step\u001b[0m\u001b[0;34m,\u001b[0m \u001b[0mGCNN\u001b[0m\u001b[0;34m.\u001b[0m\u001b[0mloss\u001b[0m\u001b[0;34m,\u001b[0m \u001b[0mGCNN\u001b[0m\u001b[0;34m.\u001b[0m\u001b[0mnorm_grad\u001b[0m\u001b[0;34m,\u001b[0m \u001b[0mGCNN\u001b[0m\u001b[0;34m.\u001b[0m\u001b[0maccuracy\u001b[0m\u001b[0;34m]\u001b[0m\u001b[0;34m,\u001b[0m \u001b[0mfeed_dict\u001b[0m\u001b[0;34m)\u001b[0m\u001b[0;34m\u001b[0m\u001b[0;34m\u001b[0m\u001b[0m\n\u001b[0m\u001b[1;32m     69\u001b[0m \u001b[0;34m\u001b[0m\u001b[0m\n\u001b[1;32m     70\u001b[0m     \u001b[0mtraining_time\u001b[0m \u001b[0;34m=\u001b[0m \u001b[0mtime\u001b[0m\u001b[0;34m.\u001b[0m\u001b[0mtime\u001b[0m\u001b[0;34m(\u001b[0m\u001b[0;34m)\u001b[0m \u001b[0;34m-\u001b[0m \u001b[0mtic\u001b[0m\u001b[0;34m\u001b[0m\u001b[0;34m\u001b[0m\u001b[0m\n",
      "\u001b[0;32m/usr/local/lib/python3.6/dist-packages/tensorflow/python/client/session.py\u001b[0m in \u001b[0;36mrun\u001b[0;34m(self, fetches, feed_dict, options, run_metadata)\u001b[0m\n\u001b[1;32m    948\u001b[0m     \u001b[0;32mtry\u001b[0m\u001b[0;34m:\u001b[0m\u001b[0;34m\u001b[0m\u001b[0;34m\u001b[0m\u001b[0m\n\u001b[1;32m    949\u001b[0m       result = self._run(None, fetches, feed_dict, options_ptr,\n\u001b[0;32m--> 950\u001b[0;31m                          run_metadata_ptr)\n\u001b[0m\u001b[1;32m    951\u001b[0m       \u001b[0;32mif\u001b[0m \u001b[0mrun_metadata\u001b[0m\u001b[0;34m:\u001b[0m\u001b[0;34m\u001b[0m\u001b[0;34m\u001b[0m\u001b[0m\n\u001b[1;32m    952\u001b[0m         \u001b[0mproto_data\u001b[0m \u001b[0;34m=\u001b[0m \u001b[0mtf_session\u001b[0m\u001b[0;34m.\u001b[0m\u001b[0mTF_GetBuffer\u001b[0m\u001b[0;34m(\u001b[0m\u001b[0mrun_metadata_ptr\u001b[0m\u001b[0;34m)\u001b[0m\u001b[0;34m\u001b[0m\u001b[0;34m\u001b[0m\u001b[0m\n",
      "\u001b[0;32m/usr/local/lib/python3.6/dist-packages/tensorflow/python/client/session.py\u001b[0m in \u001b[0;36m_run\u001b[0;34m(self, handle, fetches, feed_dict, options, run_metadata)\u001b[0m\n\u001b[1;32m   1171\u001b[0m     \u001b[0;32mif\u001b[0m \u001b[0mfinal_fetches\u001b[0m \u001b[0;32mor\u001b[0m \u001b[0mfinal_targets\u001b[0m \u001b[0;32mor\u001b[0m \u001b[0;34m(\u001b[0m\u001b[0mhandle\u001b[0m \u001b[0;32mand\u001b[0m \u001b[0mfeed_dict_tensor\u001b[0m\u001b[0;34m)\u001b[0m\u001b[0;34m:\u001b[0m\u001b[0;34m\u001b[0m\u001b[0;34m\u001b[0m\u001b[0m\n\u001b[1;32m   1172\u001b[0m       results = self._do_run(handle, final_targets, final_fetches,\n\u001b[0;32m-> 1173\u001b[0;31m                              feed_dict_tensor, options, run_metadata)\n\u001b[0m\u001b[1;32m   1174\u001b[0m     \u001b[0;32melse\u001b[0m\u001b[0;34m:\u001b[0m\u001b[0;34m\u001b[0m\u001b[0;34m\u001b[0m\u001b[0m\n\u001b[1;32m   1175\u001b[0m       \u001b[0mresults\u001b[0m \u001b[0;34m=\u001b[0m \u001b[0;34m[\u001b[0m\u001b[0;34m]\u001b[0m\u001b[0;34m\u001b[0m\u001b[0;34m\u001b[0m\u001b[0m\n",
      "\u001b[0;32m/usr/local/lib/python3.6/dist-packages/tensorflow/python/client/session.py\u001b[0m in \u001b[0;36m_do_run\u001b[0;34m(self, handle, target_list, fetch_list, feed_dict, options, run_metadata)\u001b[0m\n\u001b[1;32m   1348\u001b[0m     \u001b[0;32mif\u001b[0m \u001b[0mhandle\u001b[0m \u001b[0;32mis\u001b[0m \u001b[0;32mNone\u001b[0m\u001b[0;34m:\u001b[0m\u001b[0;34m\u001b[0m\u001b[0;34m\u001b[0m\u001b[0m\n\u001b[1;32m   1349\u001b[0m       return self._do_call(_run_fn, feeds, fetches, targets, options,\n\u001b[0;32m-> 1350\u001b[0;31m                            run_metadata)\n\u001b[0m\u001b[1;32m   1351\u001b[0m     \u001b[0;32melse\u001b[0m\u001b[0;34m:\u001b[0m\u001b[0;34m\u001b[0m\u001b[0;34m\u001b[0m\u001b[0m\n\u001b[1;32m   1352\u001b[0m       \u001b[0;32mreturn\u001b[0m \u001b[0mself\u001b[0m\u001b[0;34m.\u001b[0m\u001b[0m_do_call\u001b[0m\u001b[0;34m(\u001b[0m\u001b[0m_prun_fn\u001b[0m\u001b[0;34m,\u001b[0m \u001b[0mhandle\u001b[0m\u001b[0;34m,\u001b[0m \u001b[0mfeeds\u001b[0m\u001b[0;34m,\u001b[0m \u001b[0mfetches\u001b[0m\u001b[0;34m)\u001b[0m\u001b[0;34m\u001b[0m\u001b[0;34m\u001b[0m\u001b[0m\n",
      "\u001b[0;32m/usr/local/lib/python3.6/dist-packages/tensorflow/python/client/session.py\u001b[0m in \u001b[0;36m_do_call\u001b[0;34m(self, fn, *args)\u001b[0m\n\u001b[1;32m   1354\u001b[0m   \u001b[0;32mdef\u001b[0m \u001b[0m_do_call\u001b[0m\u001b[0;34m(\u001b[0m\u001b[0mself\u001b[0m\u001b[0;34m,\u001b[0m \u001b[0mfn\u001b[0m\u001b[0;34m,\u001b[0m \u001b[0;34m*\u001b[0m\u001b[0margs\u001b[0m\u001b[0;34m)\u001b[0m\u001b[0;34m:\u001b[0m\u001b[0;34m\u001b[0m\u001b[0;34m\u001b[0m\u001b[0m\n\u001b[1;32m   1355\u001b[0m     \u001b[0;32mtry\u001b[0m\u001b[0;34m:\u001b[0m\u001b[0;34m\u001b[0m\u001b[0;34m\u001b[0m\u001b[0m\n\u001b[0;32m-> 1356\u001b[0;31m       \u001b[0;32mreturn\u001b[0m \u001b[0mfn\u001b[0m\u001b[0;34m(\u001b[0m\u001b[0;34m*\u001b[0m\u001b[0margs\u001b[0m\u001b[0;34m)\u001b[0m\u001b[0;34m\u001b[0m\u001b[0;34m\u001b[0m\u001b[0m\n\u001b[0m\u001b[1;32m   1357\u001b[0m     \u001b[0;32mexcept\u001b[0m \u001b[0merrors\u001b[0m\u001b[0;34m.\u001b[0m\u001b[0mOpError\u001b[0m \u001b[0;32mas\u001b[0m \u001b[0me\u001b[0m\u001b[0;34m:\u001b[0m\u001b[0;34m\u001b[0m\u001b[0;34m\u001b[0m\u001b[0m\n\u001b[1;32m   1358\u001b[0m       \u001b[0mmessage\u001b[0m \u001b[0;34m=\u001b[0m \u001b[0mcompat\u001b[0m\u001b[0;34m.\u001b[0m\u001b[0mas_text\u001b[0m\u001b[0;34m(\u001b[0m\u001b[0me\u001b[0m\u001b[0;34m.\u001b[0m\u001b[0mmessage\u001b[0m\u001b[0;34m)\u001b[0m\u001b[0;34m\u001b[0m\u001b[0;34m\u001b[0m\u001b[0m\n",
      "\u001b[0;32m/usr/local/lib/python3.6/dist-packages/tensorflow/python/client/session.py\u001b[0m in \u001b[0;36m_run_fn\u001b[0;34m(feed_dict, fetch_list, target_list, options, run_metadata)\u001b[0m\n\u001b[1;32m   1339\u001b[0m       \u001b[0mself\u001b[0m\u001b[0;34m.\u001b[0m\u001b[0m_extend_graph\u001b[0m\u001b[0;34m(\u001b[0m\u001b[0;34m)\u001b[0m\u001b[0;34m\u001b[0m\u001b[0;34m\u001b[0m\u001b[0m\n\u001b[1;32m   1340\u001b[0m       return self._call_tf_sessionrun(\n\u001b[0;32m-> 1341\u001b[0;31m           options, feed_dict, fetch_list, target_list, run_metadata)\n\u001b[0m\u001b[1;32m   1342\u001b[0m \u001b[0;34m\u001b[0m\u001b[0m\n\u001b[1;32m   1343\u001b[0m     \u001b[0;32mdef\u001b[0m \u001b[0m_prun_fn\u001b[0m\u001b[0;34m(\u001b[0m\u001b[0mhandle\u001b[0m\u001b[0;34m,\u001b[0m \u001b[0mfeed_dict\u001b[0m\u001b[0;34m,\u001b[0m \u001b[0mfetch_list\u001b[0m\u001b[0;34m)\u001b[0m\u001b[0;34m:\u001b[0m\u001b[0;34m\u001b[0m\u001b[0;34m\u001b[0m\u001b[0m\n",
      "\u001b[0;32m/usr/local/lib/python3.6/dist-packages/tensorflow/python/client/session.py\u001b[0m in \u001b[0;36m_call_tf_sessionrun\u001b[0;34m(self, options, feed_dict, fetch_list, target_list, run_metadata)\u001b[0m\n\u001b[1;32m   1427\u001b[0m     return tf_session.TF_SessionRun_wrapper(\n\u001b[1;32m   1428\u001b[0m         \u001b[0mself\u001b[0m\u001b[0;34m.\u001b[0m\u001b[0m_session\u001b[0m\u001b[0;34m,\u001b[0m \u001b[0moptions\u001b[0m\u001b[0;34m,\u001b[0m \u001b[0mfeed_dict\u001b[0m\u001b[0;34m,\u001b[0m \u001b[0mfetch_list\u001b[0m\u001b[0;34m,\u001b[0m \u001b[0mtarget_list\u001b[0m\u001b[0;34m,\u001b[0m\u001b[0;34m\u001b[0m\u001b[0;34m\u001b[0m\u001b[0m\n\u001b[0;32m-> 1429\u001b[0;31m         run_metadata)\n\u001b[0m\u001b[1;32m   1430\u001b[0m \u001b[0;34m\u001b[0m\u001b[0m\n\u001b[1;32m   1431\u001b[0m   \u001b[0;32mdef\u001b[0m \u001b[0m_call_tf_sessionprun\u001b[0m\u001b[0;34m(\u001b[0m\u001b[0mself\u001b[0m\u001b[0;34m,\u001b[0m \u001b[0mhandle\u001b[0m\u001b[0;34m,\u001b[0m \u001b[0mfeed_dict\u001b[0m\u001b[0;34m,\u001b[0m \u001b[0mfetch_list\u001b[0m\u001b[0;34m)\u001b[0m\u001b[0;34m:\u001b[0m\u001b[0;34m\u001b[0m\u001b[0;34m\u001b[0m\u001b[0m\n",
      "\u001b[0;31mKeyboardInterrupt\u001b[0m: "
     ]
    }
   ],
   "source": [
    "num_total_iter_training = int(10e4)\n",
    "\n",
    "GCNN = GAT(idx_rows, idx_cols, A.shape, X, Y, num_hidden_feat, n_heads, learning_rate=learning_rate, gamma=gamma)\n",
    "\n",
    "cost_train_avg      = []\n",
    "grad_norm_train_avg = []\n",
    "acc_train_avg       = []\n",
    "cost_test_avg       = []\n",
    "grad_norm_test_avg  = []\n",
    "acc_test_avg        = []\n",
    "cost_val_avg        = []\n",
    "data_cost_val_avg   = []\n",
    "acc_val_avg         = []\n",
    "iter_test           = []\n",
    "list_training_time = list()\n",
    "\n",
    "max_val_acc = 0\n",
    "min_val_loss = np.inf\n",
    "\n",
    "#Training code\n",
    "for i in tqdm(range(num_total_iter_training)):\n",
    "    if (len(cost_train_avg) % val_test_interval) == 0:\n",
    "        #Print last training performance\n",
    "        if (len(cost_train_avg)>0):\n",
    "            tqdm.write(\"[TRN] epoch = %03i, cost = %3.2e, |grad| = %.2e, acc = %3.2e (%03.2fs)\" % \\\n",
    "            (len(cost_train_avg), cost_train_avg[-1], grad_norm_train_avg[-1], acc_train_avg[-1], time.time() - tic))\n",
    "\n",
    "        #Validate the model\n",
    "        tic = time.time()\n",
    "\n",
    "        feed_dict = {GCNN.idx_nodes: val_idx, GCNN.keep_prob:1.0}\n",
    "        acc_val, cost_val, data_cost_val = GCNN.session.run([GCNN.accuracy, GCNN.loss, GCNN.data_loss], feed_dict)\n",
    "\n",
    "        data_cost_val_avg.append(data_cost_val)\n",
    "        cost_val_avg.append(cost_val)\n",
    "        acc_val_avg.append(acc_val)\n",
    "        tqdm.write(\"[VAL] epoch = %03i, data_cost = %3.2e, cost = %3.2e, acc = %3.2e (%03.2fs)\" % \\\n",
    "            (len(cost_train_avg), data_cost_val_avg[-1], cost_val_avg[-1], acc_val_avg[-1],  time.time() - tic))\n",
    "\n",
    "        #Test the model\n",
    "        tic = time.time()\n",
    "\n",
    "        feed_dict = {GCNN.idx_nodes: test_idx, GCNN.keep_prob:1.0}\n",
    "        acc_test, cost_test = GCNN.session.run([GCNN.accuracy, GCNN.loss], feed_dict)\n",
    "\n",
    "        cost_test_avg.append(cost_test)\n",
    "        acc_test_avg.append(acc_test)\n",
    "        tqdm.write(\"[TST] epoch = %03i, cost = %3.2e, acc = %3.2e (%03.2fs)\" % \\\n",
    "            (len(cost_train_avg), cost_test_avg[-1], acc_test_avg[-1],  time.time() - tic))\n",
    "        iter_test.append(len(cost_train_avg))\n",
    "\n",
    "\n",
    "        if acc_val_avg[-1] >= max_val_acc or data_cost_val_avg[-1] <= min_val_loss:\n",
    "            max_val_acc = np.maximum(acc_val_avg[-1], max_val_acc)\n",
    "            min_val_loss = np.minimum(data_cost_val_avg[-1], min_val_loss)\n",
    "            if acc_val_avg[-1] >= max_val_acc and data_cost_val_avg[-1] <= min_val_loss:\n",
    "                best_model_test_acc = acc_test_avg[-1]\n",
    "            curr_step = 0\n",
    "        else:\n",
    "            curr_step += 1\n",
    "            if curr_step == patience:\n",
    "                tqdm.write('Early stop! Min loss: ', min_val_loss, ', Max accuracy: ', max_val_acc)\n",
    "                break\n",
    "\n",
    "    tic = time.time()\n",
    "    feed_dict = {GCNN.idx_nodes: train_idx, GCNN.keep_prob: 0.4}\n",
    "\n",
    "    _, current_training_loss, norm_grad, current_acc_training = GCNN.session.run([GCNN.opt_step, GCNN.loss, GCNN.norm_grad, GCNN.accuracy], feed_dict) \n",
    "\n",
    "    training_time = time.time() - tic   \n",
    "\n",
    "    cost_train_avg.append(current_training_loss)\n",
    "    grad_norm_train_avg.append(norm_grad)\n",
    "    acc_train_avg.append(current_acc_training)\n",
    "\n",
    "\n",
    "#Compute and print statistics of the last realized experiment\n",
    "list_all_acc.append(100*best_model_test_acc)\n",
    "list_all_cost_val_avg.append(cost_val_avg)\n",
    "list_all_data_cost_val_avg.append(data_cost_val_avg)\n",
    "list_all_acc_val_avg.append(acc_val_avg)\n",
    "list_all_cost_test_avg.append(cost_test_avg)\n",
    "list_all_acc_test_avg.append(acc_test_avg)\n",
    "\n",
    "print('Num done: %d' % num_done)\n",
    "print('Max accuracy on test set achieved: %f%%' % np.max(np.asarray(acc_test_avg)*100))\n",
    "print('Max suggested accuracy: %f%%' % (100*best_model_test_acc))#(np.asarray(acc_test_avg)[np.asarray(data_cost_val_avg)==np.min(data_cost_val_avg)]),))\n",
    "print('Current mean: %f%%' % np.mean(list_all_acc))\n",
    "print('Current std: %f' % np.std(list_all_acc))\n",
    "\n",
    "num_done += 1"
   ]
  },
  {
   "cell_type": "code",
   "execution_count": 7,
   "metadata": {},
   "outputs": [
    {
     "name": "stdout",
     "output_type": "stream",
     "text": [
      "83.25999975204468\n",
      "0.5765412469708043\n"
     ]
    }
   ],
   "source": [
    "#Print average performance\n",
    "print(np.mean(list_all_acc))\n",
    "print(np.std(list_all_acc))"
   ]
  },
  {
   "cell_type": "code",
   "execution_count": null,
   "metadata": {},
   "outputs": [],
   "source": []
  }
 ],
 "metadata": {
  "kernelspec": {
   "display_name": "Python 3",
   "language": "python",
   "name": "python3"
  },
  "language_info": {
   "codemirror_mode": {
    "name": "ipython",
    "version": 3
   },
   "file_extension": ".py",
   "mimetype": "text/x-python",
   "name": "python",
   "nbconvert_exporter": "python",
   "pygments_lexer": "ipython3",
   "version": "3.6.8"
  }
 },
 "nbformat": 4,
 "nbformat_minor": 4
}
